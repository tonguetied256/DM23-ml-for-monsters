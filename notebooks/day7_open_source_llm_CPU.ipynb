{
 "cells": [
  {
   "cell_type": "code",
   "execution_count": null,
   "id": "257b6007-f4ec-4096-91a7-7bc8201dd079",
   "metadata": {},
   "outputs": [],
   "source": [
    "!pip install llama-cpp-python"
   ]
  },
  {
   "cell_type": "code",
   "execution_count": 11,
   "id": "31bca0bd-c912-44d2-a5ad-4018205107d6",
   "metadata": {},
   "outputs": [],
   "source": [
    "from llama_cpp import Llama\n",
    "from tqdm import tqdm\n",
    "\n",
    "import re\n",
    "import spacy"
   ]
  },
  {
   "cell_type": "code",
   "execution_count": 12,
   "id": "e9a62cdd-7e1c-4b90-80ea-9422c24a0f75",
   "metadata": {},
   "outputs": [],
   "source": [
    "nlp = spacy.load(\"en_core_web_sm\")"
   ]
  },
  {
   "cell_type": "code",
   "execution_count": 13,
   "id": "2876fab7-1020-4f1b-8416-3fb5c6301917",
   "metadata": {},
   "outputs": [
    {
     "name": "stderr",
     "output_type": "stream",
     "text": [
      "llama.cpp: loading model from ../../../llama.cpp/models/vicuna-7b-1.1.ggmlv3.q4_0.bin\n",
      "llama_model_load_internal: format     = ggjt v3 (latest)\n",
      "llama_model_load_internal: n_vocab    = 32000\n",
      "llama_model_load_internal: n_ctx      = 512\n",
      "llama_model_load_internal: n_embd     = 4096\n",
      "llama_model_load_internal: n_mult     = 256\n",
      "llama_model_load_internal: n_head     = 32\n",
      "llama_model_load_internal: n_head_kv  = 32\n",
      "llama_model_load_internal: n_layer    = 32\n",
      "llama_model_load_internal: n_rot      = 128\n",
      "llama_model_load_internal: n_gqa      = 1\n",
      "llama_model_load_internal: rnorm_eps  = 1.0e-06\n",
      "llama_model_load_internal: n_ff       = 11008\n",
      "llama_model_load_internal: freq_base  = 10000.0\n",
      "llama_model_load_internal: freq_scale = 1\n",
      "llama_model_load_internal: ftype      = 2 (mostly Q4_0)\n",
      "llama_model_load_internal: model size = 7B\n",
      "llama_model_load_internal: ggml ctx size =    0.08 MB\n",
      "llama_model_load_internal: mem required  = 3917.73 MB (+  256.00 MB per state)\n",
      "llama_new_context_with_model: kv self size  =  256.00 MB\n"
     ]
    }
   ],
   "source": [
    "MODEL_PATH = \"../../../llama.cpp/models/vicuna-7b-1.1.ggmlv3.q4_0.bin\"\n",
    "llm = Llama(model_path=MODEL_PATH, verbose=False)"
   ]
  },
  {
   "cell_type": "code",
   "execution_count": 14,
   "id": "27454b95-9876-4369-9742-5e598fd77418",
   "metadata": {},
   "outputs": [],
   "source": [
    "def style_transfer(style, text, llm, nlp, max_tokens, \n",
    "                   temperature = 0.8, top_p=0.95,\n",
    "                   top_k=40, reset=True):\n",
    "    doc = nlp(text)\n",
    "    sents = [s.text for s in doc.sents]\n",
    "    start = 0\n",
    "    end = len(sents)\n",
    "    step = 6\n",
    "    \n",
    "    output_list = []\n",
    "    for i in tqdm(range(start, end, step)):\n",
    "        prompt_sentences = \" \".join(sents[i:i+step]).replace('\\n', '')\n",
    "        prompt = f\"\"\"Q: Can you re-write the following in the style of {style}: \n",
    "        \n",
    "        '{prompt_sentences}'\n",
    "\n",
    "        A:\n",
    "        \"\"\"\n",
    "        output = llm(prompt, echo=False, \n",
    "                     max_tokens = max_tokens,\n",
    "                     temperature = temperature, \n",
    "                     top_p=top_p, top_k=top_k)\n",
    "        output_list.append((prompt, output))\n",
    "        if reset:\n",
    "            llm.reset()\n",
    "    return output_list"
   ]
  },
  {
   "cell_type": "code",
   "execution_count": 15,
   "id": "ab125f5a-3cf8-4022-bef7-9b923f2d0aa4",
   "metadata": {},
   "outputs": [],
   "source": [
    "text = \"\"\"\n",
    "Different groups of people cycle through the farms in neighborhoods outside downtown, ready to provide food for thousands of people occupying Woodruff Park. \n",
    "A warehouse on the west side has trucks and teams to drive to abandoned hotels and industrial waste facilities, gathering “raw” material — metal, lumber, kitchen equipment — that can be used to build brick ovens and fix up the new building. \n",
    "A partisan cafe downtown functions as an entry point for visitors and newcomers, as well as a drop-in point for insurgents from around the state, the region, the country, and even the world. The dance club lets people in to blend with the crowd after a rowdy demo while giving them a way to blow off some steam. \n",
    "Pirate radio transmitters broadcast from secret locations outside of the city to spread sedition and heresy into the heart of a great metropolis. University copy machines are hacked for free prints for this weekend’s assembly — the print shop is already running overtime. \n",
    "A friend walks out of the store with a backpack full of goods and a knowing wink. Doctors and herbalists are at hand, equipped to deal with any injuries that might ensue from tonight’s riot, well trained from treating common ailments and injuries. \n",
    "The family lake house is repurposed to sleep a hundred for a summer strategy meeting. Slowly, something is growing.\n",
    "\"\"\""
   ]
  },
  {
   "cell_type": "code",
   "execution_count": 38,
   "id": "04e3825b-643c-41ec-89ed-dacff8ee6b4a",
   "metadata": {},
   "outputs": [
    {
     "name": "stderr",
     "output_type": "stream",
     "text": [
      "100%|█████████████████████████████████████████████████████████| 4/4 [03:48<00:00, 57.01s/it]\n"
     ]
    }
   ],
   "source": [
    "outputs = style_transfer(\"Jean Baudrillard\", text, llm, nlp, max_tokens=512)"
   ]
  },
  {
   "cell_type": "code",
   "execution_count": 39,
   "id": "3495d40d-2b07-4d2d-a1f1-89017a3e9715",
   "metadata": {},
   "outputs": [],
   "source": [
    "def extract_choices(outputs):\n",
    "    choices = []\n",
    "    for o in outputs:\n",
    "        choices.append(o[1]['choices'][0]['text'].replace(\"\\n\", \"\"))\n",
    "    return \" \".join(choices).replace(\"\\n\", \"\")"
   ]
  },
  {
   "cell_type": "code",
   "execution_count": 40,
   "id": "1e91463f-bc24-4e3c-a97c-cb2981aae7a7",
   "metadata": {},
   "outputs": [
    {
     "data": {
      "text/plain": [
       "\"```The Bayou Oaks golf course, a symbol of civilization's relentless expansion into nature, was attacked by an anonymous group of rebels in the darkest hours of July 2nd, under the watchful gaze of the full moon. The concrete was poured into the holes, the greens were dug into, and messages of rebellion were left behind as a testament to the solidarity of the saboteurs with the forest defenders in Weelaunee. The act was a direct challenge to the authority of the cops who rule over City Park and everywhere else they have made their presence felt. Power to the forest defenders! Stop Cop City!```         The redevelopment of the Bayou Oaks golf course in the aftermath of Katrina was met with widespread opposition, chief among them the destruction of a fallow park area that served as a last refuge for native animals already struggling under the weight of citywide development. A decade of rewilding since the storm has offered a glimpse into a world that continues to exist in spite of 300 years of apocalypse. We honor those who mobilized in 2015 to defend this wild area, despite the eventual defeat of the struggle. Like the owls, coyotes, and alligators, we are part of this world, defending it against the forces that seek to commandeer its resources for their own selfish purposes. Golf courses, with their manufactured turf and faux-natural surroundings, symbolize our current predicament perfectly: while some revel in the absurdity of frat bros guzzling cold beers on these manmade oases, others struggle to survive in the harsh realities of a world that has been transformed beyond recognition by unchecked development and environmental         In a world where every fence is but a mere obstacle to be overcome, our actions were a testament to the power of human will. The surveillance cameras that littered the urban landscape were no match for our cunning and determination. We struck back against the forces that seek to constrain us, to chain us to the rigors of society. But we are not animals, to be trapped and penned in by the invisible fences of the powerful.We fought for a world that embraces the wild, that revels in its raw power and beauty. The police may try to criminalize our actions, to chain us to their patriarchal systems of control, but we will not be silenced. We must continue to smash the fortresses of oppression, to tear down the walls of domination that seek to confine us.For fuck's sake, let us defy the cops and their petty laws! Let us be the agents of our own liberation!         The urban landscape is a complex network of signs and significations that belie the underlying reality. The facade of functionality masks the underlying power dynamics, as the police serve as a projection of state authority, maintaining order through the use of force. But this display of power is just a simulation, a ploy to conceal the true nature of power relations.                'From NOLA to ATL, Stop Cop City!' is a slogan that reveals the constructed nature of police authority. The repetition of the phrase creates a kind of hysteria, a state of hyper-reality in which the message becomes detached from its origin and acquires a life of its own. This is not just a protest against police brutality, but an attack on the very notion of authority itself.\""
      ]
     },
     "execution_count": 40,
     "metadata": {},
     "output_type": "execute_result"
    }
   ],
   "source": [
    "extract_choices(outputs)"
   ]
  }
 ],
 "metadata": {
  "kernelspec": {
   "display_name": "llama",
   "language": "python",
   "name": "llama"
  },
  "language_info": {
   "codemirror_mode": {
    "name": "ipython",
    "version": 3
   },
   "file_extension": ".py",
   "mimetype": "text/x-python",
   "name": "python",
   "nbconvert_exporter": "python",
   "pygments_lexer": "ipython3",
   "version": "3.10.4"
  }
 },
 "nbformat": 4,
 "nbformat_minor": 5
}
