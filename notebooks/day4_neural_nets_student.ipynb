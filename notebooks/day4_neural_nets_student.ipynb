{
 "cells": [
  {
   "cell_type": "markdown",
   "id": "1e56644f",
   "metadata": {
    "slideshow": {
     "slide_type": "slide"
    }
   },
   "source": [
    "# Learning Machines (Pt. 2): <div> Training a Neural Net"
   ]
  },
  {
   "cell_type": "markdown",
   "id": "92f178bb",
   "metadata": {
    "slideshow": {
     "slide_type": "slide"
    }
   },
   "source": [
    "## Code Preamble"
   ]
  },
  {
   "cell_type": "code",
   "execution_count": 4,
   "id": "551b8b6d",
   "metadata": {
    "slideshow": {
     "slide_type": "fragment"
    }
   },
   "outputs": [
    {
     "name": "stdout",
     "output_type": "stream",
     "text": [
      "The autoreload extension is already loaded. To reload it, use:\n",
      "  %reload_ext autoreload\n"
     ]
    }
   ],
   "source": [
    "%load_ext autoreload\n",
    "%autoreload 2"
   ]
  },
  {
   "cell_type": "code",
   "execution_count": 5,
   "id": "92ab8dd8",
   "metadata": {
    "slideshow": {
     "slide_type": "fragment"
    }
   },
   "outputs": [],
   "source": [
    "%matplotlib inline\n",
    "import numpy as np\n",
    "import matplotlib.pyplot as plt"
   ]
  },
  {
   "cell_type": "code",
   "execution_count": 7,
   "id": "46618e4b",
   "metadata": {
    "slideshow": {
     "slide_type": "fragment"
    }
   },
   "outputs": [],
   "source": [
    "import sys\n",
    "sys.path.append('../py')\n",
    "\n",
    "from plots import (\n",
    "    set_grad_plot_fig_ax,\n",
    "    set_grad_plot_styles,\n",
    "    plot_activations,\n",
    "    plot_function,\n",
    "    plot_tangent_at_points,\n",
    "    tangent_plot,\n",
    "    plot_gradient_descent\n",
    "    \n",
    ")"
   ]
  },
  {
   "cell_type": "markdown",
   "id": "cb84ec98",
   "metadata": {
    "slideshow": {
     "slide_type": "slide"
    }
   },
   "source": [
    "## Resources\n",
    "\n",
    "### Tutorials etc.\n",
    "\n",
    "- Mirko Stojiljković: [Stochastic Gradient Descent Algorithm With Python and NumPy](https://realpython.com/gradient-descent-algorithm-python/). RealPython.\n",
    "- [Machine Learning Glossary](https://ml-cheatsheet.readthedocs.io/)\n",
    "\n",
    "### Textbooks\n",
    "\n",
    "- I. Goodfellow, Y. Bengio & A. Courville (2016). [Deep Learning](https://www.deeplearningbook.org/). MIT Press.\n",
    "\n"
   ]
  },
  {
   "cell_type": "markdown",
   "id": "cf7c18bd-ca4d-4ccf-899b-8c8859737aea",
   "metadata": {
    "slideshow": {
     "slide_type": "slide"
    }
   },
   "source": [
    "## What We'll Learn Today\n",
    "\n",
    "- A conceptual overview of neural networks\n",
    "    - Forward pass\n",
    "    - Backpropagation\n",
    "- Mathematical fundamentals\n",
    "    - Forward pass\n",
    "        - Activation functions\n",
    "    - Backpropagation\n",
    "        - Derivatives\n",
    "            - Intuition with simple functions\n",
    "            - Gradient descent from scratch\n",
    "        - The Chain Rule of Calculus\n",
    "        - Overview: Chain rule for matrices"
   ]
  },
  {
   "cell_type": "markdown",
   "id": "d8f58693-182a-4029-898c-a7d0c181d07d",
   "metadata": {
    "slideshow": {
     "slide_type": "slide"
    }
   },
   "source": [
    "## Why?\n",
    "\n",
    "- You'll save time! \n",
    "    - Intuition of the fundamentals makes it easier to work with applications\n",
    "        - You don't have to be and expert on this or remember the math in detail\n",
    "- It helps us cut through the nonsense and hype\n",
    "    - Understand the practical techniques of power that surround us\n",
    "- If you want: You will be able to start building your own models from scratch\n",
    "    - Don't only rely on black-boxed techniques developed by other people"
   ]
  },
  {
   "cell_type": "markdown",
   "id": "0b6ed623-d286-44b5-a9e7-b0fdda768191",
   "metadata": {
    "slideshow": {
     "slide_type": "slide"
    }
   },
   "source": [
    "# Soooo... What is a Neural Network?"
   ]
  },
  {
   "cell_type": "markdown",
   "id": "054cc090-7086-4b4d-9c7f-5b376c9857b2",
   "metadata": {
    "slideshow": {
     "slide_type": "slide"
    },
    "tags": []
   },
   "source": [
    "## High-level Overview"
   ]
  },
  {
   "cell_type": "markdown",
   "id": "d6ac1500-a445-40e1-b2e2-d3984f0e3619",
   "metadata": {
    "slideshow": {
     "slide_type": "fragment"
    }
   },
   "source": [
    "<center>\n",
    "<div>\n",
    "<img src=\"../img/neural_network_simple.png\" width=\"50%\"\n",
    "     caption=\"test\"/>\n",
    "    <figcaption>The most simple possible neural network.</figcaption>\n",
    "</div>\n",
    "</center>"
   ]
  },
  {
   "cell_type": "markdown",
   "id": "ebf7eab9-35dc-4628-8823-182b61ddaa13",
   "metadata": {
    "slideshow": {
     "slide_type": "slide"
    }
   },
   "source": [
    "- **The GOAL:** Train our weights matrices $W_h$ and $W_O$ until they produce a good estimate of output $O$, given the input $X$\n",
    "- A neural net can be thought of as a sequence of mathematical operations. We have an input, that we transform and then give as an output\n",
    "- The way this transformation happens is iterative and includes three main steps:\n",
    "    - Forward pass\n",
    "        - Matrix multiplication\n",
    "        - Addition of bias terms\n",
    "        - Activation functions\n",
    "    - Calculate difference between prediction and output\n",
    "    - Backpropagation of the loss function "
   ]
  },
  {
   "cell_type": "markdown",
   "id": "91292c3f",
   "metadata": {
    "slideshow": {
     "slide_type": "slide"
    }
   },
   "source": [
    "- This first network would look like this: $(XW_h)W_o$\n",
    "    - We start with input $X$ and multply it by a the first weights matrix $W_h$\n",
    "        - This gives us our first \"hidden layer\" $H$, which is just $XW_h = H$\n",
    "    - Then we multiply our hidden layer with our second weights matrix $W_o$ to get our output $O$\n",
    "- This step of matrix multiplication is called the **forward pass**\n",
    "- It is followed by **backpropagation**"
   ]
  },
  {
   "cell_type": "markdown",
   "id": "ec278041-86ee-4dff-abae-476f48f9eece",
   "metadata": {
    "slideshow": {
     "slide_type": "slide"
    }
   },
   "source": [
    "### A More Complex Network (but still very simple)\n",
    "\n",
    "<center>\n",
    "<div>\n",
    "<img src=\"../img/neural_network_w_matrices.png\" width=\"50%\"\n",
    "     caption=\"test\"/>\n",
    "    <figcaption>This is still very simple, but our weights matrices have more dimensions.</figcaption>\n",
    "</div>\n",
    "</center>"
   ]
  },
  {
   "cell_type": "markdown",
   "id": "7f01944c-05e4-430b-a1d7-17dbcb155391",
   "metadata": {
    "slideshow": {
     "slide_type": "slide"
    }
   },
   "source": [
    "Let's complicate things a bit. \n",
    "\n",
    "**PROMPT:** What is different with the network above, comparaed to the the previous slide?"
   ]
  },
  {
   "cell_type": "markdown",
   "id": "26dcef22-069d-484d-9b28-71198e8ac8ee",
   "metadata": {
    "slideshow": {
     "slide_type": "fragment"
    }
   },
   "source": [
    "- Mathematically the functions to represent the network is still $(XW_h)W_O$\n",
    "    - It's just the dimensions of our weight matrices $W_H$ and $W_O$ as well as our output $O$ that have changed\n",
    "    - When dimensions of one layer of the network change, the other layers need to be adapted. Let's see how"
   ]
  },
  {
   "cell_type": "markdown",
   "id": "1dde86b0-d32b-411c-acf6-3544344d74c0",
   "metadata": {
    "slideshow": {
     "slide_type": "slide"
    }
   },
   "source": [
    "### Mathematical Ways of Thinking a Neural Net\n",
    "\n",
    "- A sequence of matrices\n",
    "- A set of nested functions\n",
    "- These are the same thing! (in this context)"
   ]
  },
  {
   "cell_type": "markdown",
   "id": "ca7cd952-ba00-47c7-97d6-6afb42a9cf7d",
   "metadata": {
    "slideshow": {
     "slide_type": "slide"
    },
    "tags": []
   },
   "source": [
    "### Sequence of Matrices\n",
    "\n",
    "<center>\n",
    "<div>\n",
    "<img src=\"../img/neural_network_matrices.png\" width=\"50%\"\n",
    "     caption=\"test\"/>\n",
    "    <figcaption>A neural net can be thought of as a *sequence* of matrices. Each matrix multiplication transforms the network somehow.</figcaption>\n",
    "</div>\n",
    "</center>"
   ]
  },
  {
   "cell_type": "markdown",
   "id": "c007cee2-2c26-4c6e-a4c7-383758c8804c",
   "metadata": {
    "slideshow": {
     "slide_type": "slide"
    }
   },
   "source": [
    "Let's clarify that by looking at the network as a sequence of matrices instead."
   ]
  },
  {
   "cell_type": "markdown",
   "id": "1c01cf0b-942e-486a-aa2b-e6d249d3763c",
   "metadata": {
    "slideshow": {
     "slide_type": "slide"
    }
   },
   "source": [
    "**PROMPT**: $X$ has 4 rows and 2 columns. $W_H$ has 2 rows and 3 columns. What size matrix do we get when we multiply them?"
   ]
  },
  {
   "cell_type": "markdown",
   "id": "e4d4865f-b848-4b38-9f53-259ca3a6bd79",
   "metadata": {
    "slideshow": {
     "slide_type": "fragment"
    }
   },
   "source": [
    "- We get $H$, which has 4 rows like $X$, and 3 columns like $W_H$, just as the rules of matrix multiplication would tell us.\n",
    "- Each matrix transforms the data, just like a function would do..."
   ]
  },
  {
   "cell_type": "markdown",
   "id": "c8db3564-6084-4b7d-9e54-8c5e42c376ea",
   "metadata": {
    "slideshow": {
     "slide_type": "slide"
    }
   },
   "source": [
    "**PROMPT:** What do the rows and columns in $X$ represent?"
   ]
  },
  {
   "cell_type": "markdown",
   "id": "e9d57bb7-b569-4039-b56a-049227ef8024",
   "metadata": {
    "slideshow": {
     "slide_type": "fragment"
    }
   },
   "source": [
    "- The rows of $X$ are observations. We'll see this in the next lecture when we build a neural net from scratch\n",
    "- The columns of $X$ are \"features\", attributes of each observation that we use to classify or understand them"
   ]
  },
  {
   "cell_type": "markdown",
   "id": "2c3e334a-4a88-49c5-9028-1421aba0e81c",
   "metadata": {
    "slideshow": {
     "slide_type": "slide"
    }
   },
   "source": [
    "**PROMPT:** What do the rows and columns in $O$ represent?"
   ]
  },
  {
   "cell_type": "markdown",
   "id": "2c8cc7b5-adc3-4e67-8b9b-bdcd95032cfb",
   "metadata": {
    "slideshow": {
     "slide_type": "slide"
    }
   },
   "source": [
    "### Nested Functions\n",
    "\n",
    "<center>\n",
    "<div>\n",
    "<img src=\"../img/chain_rule-dolls.gif\" width=\"50%\"\n",
    "     caption=\"test\"/>\n",
    "    <figcaption>A neural net can be thought of as a set of nested dolls. Each doll is another function and each function a layer.</figcaption>\n",
    "</div>\n",
    "</center>"
   ]
  },
  {
   "cell_type": "markdown",
   "id": "c86d6ae5-4315-496e-a38a-9ef71a91c09c",
   "metadata": {
    "slideshow": {
     "slide_type": "slide"
    }
   },
   "source": [
    "- Before we move forward, let's conjure one more image to think of neural nets\n",
    "- Neural nets can also be thought of as nested functions\n",
    "    - Indeed, [matrices are essentially functions](https://mbernste.github.io/posts/matrices_as_functions/), i.e. transformations on some input $x$ that produce an output $y$\n",
    "    - This analogy is useful once we try to understand how the Chain Rule of Calculus applies to neural nets"
   ]
  },
  {
   "cell_type": "markdown",
   "id": "7b613a2a-eb2e-46cb-b484-16143e284d7b",
   "metadata": {
    "slideshow": {
     "slide_type": "slide"
    },
    "tags": []
   },
   "source": [
    "## Forward pass\n",
    "\n",
    "- Okay, we've covered the principles of neural nets on a very high level\n",
    "- Main components:\n",
    "    - Matrix multiplication\n",
    "    - Bias terms\n",
    "    - Activation functions"
   ]
  },
  {
   "cell_type": "markdown",
   "id": "7b2ab953-023e-42e8-9366-16d3f761da7e",
   "metadata": {
    "slideshow": {
     "slide_type": "slide"
    }
   },
   "source": [
    "### Matrix Multiplication\n",
    "\n",
    "**Names:** Matrix multiplication, matrix product, Dot product (for vectors, but used more widely) <br>\n",
    "**Python:** ```@``` <br>\n",
    "**NumPy:**```np.dot``` <br>\n",
    "**Torch**: ```torch.matmul``` <br>\n",
    "**Input**: ```n x m``` and ```m x k``` matrices <br>\n",
    "**Output:** ```n x k``` matrix\n"
   ]
  },
  {
   "cell_type": "markdown",
   "id": "94b9277f",
   "metadata": {
    "slideshow": {
     "slide_type": "slide"
    }
   },
   "source": [
    "<center>\n",
    "<div>\n",
    "<img src=\"../img/neural_network_matrices.png\" width=\"50%\"\n",
    "     caption=\"test\"/>\n",
    "</div>\n",
    "</center>"
   ]
  },
  {
   "cell_type": "markdown",
   "id": "11b3cac1",
   "metadata": {
    "slideshow": {
     "slide_type": "slide"
    }
   },
   "source": [
    "In this example, we **START** with three objects: \n",
    "\n",
    "1. Our initial observations in the matrix X. \n",
    "- $x_1$ and $x_2$ stand for features of the data. \n",
    "- It is in $\\mathbb{R}^{4 \\times 2}$\n",
    "\n",
    "2. The first set of weghts in the matrix $W_H$\n",
    "- We initialize it with random values\n",
    "- It is in $\\mathbb{R}^{2 \\times 3}$\n",
    "\n",
    "3. The second set of weights in the matrix $W_O$\n",
    "- We initialize it with random values\n",
    "- It is in $\\mathbb{R}^{2 \\times 3}$"
   ]
  },
  {
   "cell_type": "markdown",
   "id": "b7d58c65",
   "metadata": {
    "slideshow": {
     "slide_type": "slide"
    }
   },
   "source": [
    "We want to **PRODUCE**:\n",
    "    \n",
    "1. Our hidden layer $H$\n",
    "- This object is created during the first pass of the network\n",
    "- It is in $\\mathbb{R}^{4 \\times 3}$\n",
    "\n",
    "2. Our outputs $O$\n",
    "- This is the product of all our matrix multiplications\n",
    "- It is in $\\mathbb{R}^{4 \\times 2}$, just like $X$\n",
    "    - In this example we are trying to estimate some features of our observations $x_i$"
   ]
  },
  {
   "cell_type": "markdown",
   "id": "71b1cb42",
   "metadata": {
    "slideshow": {
     "slide_type": "slide"
    }
   },
   "source": [
    "Let's initialize the input and the weights:"
   ]
  },
  {
   "cell_type": "code",
   "execution_count": 8,
   "id": "d9a6f913",
   "metadata": {
    "slideshow": {
     "slide_type": "fragment"
    }
   },
   "outputs": [],
   "source": [
    "X = np.array([[1,0],[0,1], [1,1], [0,0]])\n",
    "W_H = np.random.rand(2,3)\n",
    "W_O = np.random.rand(3,2)"
   ]
  },
  {
   "cell_type": "markdown",
   "id": "aed2b8c3",
   "metadata": {
    "slideshow": {
     "slide_type": "slide"
    }
   },
   "source": [
    "**PROMPT:** What are the dimensions of H? How would you produce this matrix?"
   ]
  },
  {
   "cell_type": "code",
   "execution_count": 9,
   "id": "299b33d4",
   "metadata": {
    "slideshow": {
     "slide_type": "subslide"
    }
   },
   "outputs": [
    {
     "data": {
      "text/plain": [
       "(4, 3)"
      ]
     },
     "execution_count": 9,
     "metadata": {},
     "output_type": "execute_result"
    }
   ],
   "source": [
    "H = X @ W_H\n",
    "H.shape"
   ]
  },
  {
   "cell_type": "markdown",
   "id": "59eb8096",
   "metadata": {
    "slideshow": {
     "slide_type": "slide"
    }
   },
   "source": [
    "**PROMPT:** What are the dimensions of $O$? What's notable about these dimensions?"
   ]
  },
  {
   "cell_type": "code",
   "execution_count": 10,
   "id": "39294380",
   "metadata": {
    "slideshow": {
     "slide_type": "subslide"
    }
   },
   "outputs": [
    {
     "data": {
      "text/plain": [
       "(4, 2)"
      ]
     },
     "execution_count": 10,
     "metadata": {},
     "output_type": "execute_result"
    }
   ],
   "source": [
    "O = H @ W_O\n",
    "O.shape"
   ]
  },
  {
   "cell_type": "markdown",
   "id": "f4455465",
   "metadata": {
    "slideshow": {
     "slide_type": "subslide"
    }
   },
   "source": [
    "**PROMPT:** Why is the last row of values in $O$ all zeroes?"
   ]
  },
  {
   "cell_type": "code",
   "execution_count": 11,
   "id": "522c9db2",
   "metadata": {
    "slideshow": {
     "slide_type": "subslide"
    }
   },
   "outputs": [
    {
     "data": {
      "text/plain": [
       "array([[0.67056427, 0.84711526],\n",
       "       [0.97137398, 0.78351773],\n",
       "       [1.64193825, 1.630633  ],\n",
       "       [0.        , 0.        ]])"
      ]
     },
     "execution_count": 11,
     "metadata": {},
     "output_type": "execute_result"
    }
   ],
   "source": [
    "O"
   ]
  },
  {
   "cell_type": "markdown",
   "id": "0ba16d82-bf95-43b6-9b7f-8ae9d3797ae8",
   "metadata": {
    "slideshow": {
     "slide_type": "slide"
    }
   },
   "source": [
    "### Bias terms\n",
    "\n",
    "- In linear regression, if we take $y = ax + b$, the line will go through the origin.\n",
    "    - The same is true for the weights of a neural network \n",
    "- If we have data that isn't centered around zero, we might want to *shift* it using a **bias term**\n",
    "- Bias terms typically accompany weights and must also be learned by your model"
   ]
  },
  {
   "cell_type": "markdown",
   "id": "13224632-725e-459b-ae10-fad31b8873f3",
   "metadata": {
    "slideshow": {
     "slide_type": "slide"
    }
   },
   "source": [
    "<center>\n",
    "<div>\n",
    "<img src=\"../img/nn_with_matrices_and_activations.png\" width=\"80%\"\n",
    "     caption=\"test\"/>\n",
    "    <figcaption>A neural net can be thought of as a set of nested dolls. Each doll is another function and each function a layer.</figcaption>\n",
    "</div>\n",
    "</center>"
   ]
  },
  {
   "cell_type": "code",
   "execution_count": 12,
   "id": "eaa683ae",
   "metadata": {
    "slideshow": {
     "slide_type": "slide"
    }
   },
   "outputs": [
    {
     "data": {
      "text/plain": [
       "(4, 3)"
      ]
     },
     "execution_count": 12,
     "metadata": {},
     "output_type": "execute_result"
    }
   ],
   "source": [
    "H.shape"
   ]
  },
  {
   "cell_type": "code",
   "execution_count": null,
   "id": "abe1ae3f",
   "metadata": {
    "slideshow": {
     "slide_type": "fragment"
    }
   },
   "outputs": [],
   "source": [
    "b1 = np.full((4, 3), 1)\n",
    "b1"
   ]
  },
  {
   "cell_type": "code",
   "execution_count": null,
   "id": "17127f6f",
   "metadata": {
    "slideshow": {
     "slide_type": "fragment"
    }
   },
   "outputs": [],
   "source": [
    "H = X @ W_H + b1"
   ]
  },
  {
   "cell_type": "code",
   "execution_count": null,
   "id": "d67aa389",
   "metadata": {
    "slideshow": {
     "slide_type": "fragment"
    }
   },
   "outputs": [],
   "source": [
    "np.shape(H)"
   ]
  },
  {
   "cell_type": "code",
   "execution_count": null,
   "id": "976d1adf",
   "metadata": {
    "slideshow": {
     "slide_type": "slide"
    }
   },
   "outputs": [],
   "source": [
    "b2 = np.full((4, 2), -1)"
   ]
  },
  {
   "cell_type": "code",
   "execution_count": null,
   "id": "e74ef764",
   "metadata": {
    "slideshow": {
     "slide_type": "fragment"
    }
   },
   "outputs": [],
   "source": [
    "O = H @ W_O + b2"
   ]
  },
  {
   "cell_type": "markdown",
   "id": "aea30a59-3f79-4397-b58c-170a6925035e",
   "metadata": {
    "slideshow": {
     "slide_type": "slide"
    }
   },
   "source": [
    "### Activation Functions"
   ]
  },
  {
   "cell_type": "markdown",
   "id": "de01927d-dde7-4d3c-9ee3-5bc121d2defa",
   "metadata": {
    "slideshow": {
     "slide_type": "slide"
    }
   },
   "source": [
    "<center>\n",
    "<div>\n",
    "<img src=\"../img/nn_with_matrices_and_activations.png\" width=\"80%\"\n",
    "     caption=\"test\"/>\n",
    "    <figcaption>A neural net can be thought of as a set of nested dolls. Each doll is another function and each function a layer.</figcaption>\n",
    "</div>\n",
    "</center>"
   ]
  },
  {
   "cell_type": "markdown",
   "id": "749bd6bc",
   "metadata": {
    "slideshow": {
     "slide_type": "slide"
    }
   },
   "source": [
    "- Functions which wrap the hidden layers and output\n",
    "    - Basically says which neurons should fire\n",
    "- Produce simple outputs, which stacked produces complex behavior"
   ]
  },
  {
   "cell_type": "markdown",
   "id": "956461e8",
   "metadata": {
    "slideshow": {
     "slide_type": "slide"
    }
   },
   "source": [
    "### Properties\n",
    "\n",
    "- **Non-linear:** In linear regression we’re limited to a prediction equation that looks like a straight line. \n",
    "    - Nice for simple datasets with a one-to-one relationship between inputs and outputs\n",
    "    - *But*: What if the patterns in our dataset were non-linear? (e.g. $x^2$, $\\sin$, $\\log$). \n",
    "        - To model these relationships we need a non-linear prediction equation.\n",
    "    - Activation functions provide this non-linearity.\n",
    "- **Continuously differentiable:** To improve our model with gradient descent, we need our output to have a nice slope so we can compute error derivatives with respect to weights. \n",
    "    - If our neuron instead outputted 0 or 1 (original perceptron), we wouldn’t know in which direction to update our weights to reduce our error.\n",
    "- **Fixed Range:** Activation functions typically squash the input data into a narrow range that makes training the model more stable and efficient.\n",
    "    - E.g.: Sigmoid and softmax produce 0 to 1 probabilities"
   ]
  },
  {
   "cell_type": "code",
   "execution_count": 13,
   "id": "95464475-fbbd-4c8e-9e97-ee1de99452f1",
   "metadata": {
    "slideshow": {
     "slide_type": "slide"
    }
   },
   "outputs": [],
   "source": [
    "def sigmoid(x):\n",
    "    ''' It returns 1/(1+exp(-x)). where the values lies between zero and one '''\n",
    "    return 1/(1+np.exp(-x))"
   ]
  },
  {
   "cell_type": "code",
   "execution_count": 14,
   "id": "a491d7ae-be12-4310-adda-4a46463fa46b",
   "metadata": {
    "slideshow": {
     "slide_type": "slide"
    }
   },
   "outputs": [
    {
     "data": {
      "image/png": "[encoded data removed]",
      "text/plain": [
       "<Figure size 1500x900 with 1 Axes>"
      ]
     },
     "metadata": {},
     "output_type": "display_data"
    }
   ],
   "source": [
    "x = np.linspace(-10, 10, 100)\n",
    "\n",
    "plot_function(x, sigmoid(x), [-8,8], [-.5, 1.5], 'Activation Function: Sigmoid')"
   ]
  },
  {
   "cell_type": "code",
   "execution_count": 15,
   "id": "2920a449-09f9-4dee-a9ec-3e7bdcbef1fb",
   "metadata": {
    "slideshow": {
     "slide_type": "slide"
    }
   },
   "outputs": [
    {
     "data": {
      "image/png": "[encoded data removed]",
      "text/plain": [
       "<Figure size 1500x900 with 6 Axes>"
      ]
     },
     "metadata": {},
     "output_type": "display_data"
    }
   ],
   "source": [
    "plot_activations(x)"
   ]
  },
  {
   "cell_type": "markdown",
   "id": "e0cabf42",
   "metadata": {
    "slideshow": {
     "slide_type": "slide"
    }
   },
   "source": [
    "**PROMPT:** Try to code the following actication functions in Python:\n",
    "        \n",
    "1. binaryStep\n",
    "2. linear\n",
    "3. RELU"
   ]
  },
  {
   "cell_type": "code",
   "execution_count": 16,
   "id": "1347e081",
   "metadata": {
    "slideshow": {
     "slide_type": "fragment"
    }
   },
   "outputs": [],
   "source": [
    "def binaryStep(x):\n",
    "    ''' It returns '0' is the input is less then zero otherwise it returns one '''\n",
    "    return np.heaviside(x,1)"
   ]
  },
  {
   "cell_type": "code",
   "execution_count": 17,
   "id": "a7087f97",
   "metadata": {
    "slideshow": {
     "slide_type": "fragment"
    }
   },
   "outputs": [],
   "source": [
    "def linear(x):\n",
    "    ''' y = f(x) It returns the input as it is'''\n",
    "    return x"
   ]
  },
  {
   "cell_type": "code",
   "execution_count": 18,
   "id": "689ea0f4",
   "metadata": {
    "slideshow": {
     "slide_type": "fragment"
    }
   },
   "outputs": [],
   "source": [
    "def RELU(x):\n",
    "    ''' It returns zero if the input is less than zero otherwise it returns the given input. '''\n",
    "    return x * (x > 0)"
   ]
  },
  {
   "cell_type": "code",
   "execution_count": 19,
   "id": "060540fc",
   "metadata": {
    "slideshow": {
     "slide_type": "slide"
    }
   },
   "outputs": [],
   "source": [
    "def softmax(x):\n",
    "    ''' Compute softmax values for each sets of scores in x. '''\n",
    "    return np.exp(x) / np.sum(np.exp(x), axis=0)"
   ]
  },
  {
   "cell_type": "code",
   "execution_count": null,
   "id": "285e3199",
   "metadata": {
    "slideshow": {
     "slide_type": "fragment"
    }
   },
   "outputs": [],
   "source": [
    "def tanh(x):\n",
    "    ''' It returns the value (1-exp(-2x))/(1+exp(-2x)) and the value returned will be lies in between -1 to 1.'''\n",
    "    return np.tanh(x)"
   ]
  },
  {
   "cell_type": "markdown",
   "id": "2045013b",
   "metadata": {
    "slideshow": {
     "slide_type": "subslide"
    }
   },
   "source": [
    "**PROMPT:** What kind of outputs do you get if you apply all the different activation functions to $H$?"
   ]
  },
  {
   "cell_type": "code",
   "execution_count": null,
   "id": "001a46dc",
   "metadata": {
    "slideshow": {
     "slide_type": "fragment"
    }
   },
   "outputs": [],
   "source": [
    "sigmoid(H)"
   ]
  },
  {
   "cell_type": "code",
   "execution_count": null,
   "id": "29ff8fb1",
   "metadata": {
    "slideshow": {
     "slide_type": "fragment"
    }
   },
   "outputs": [],
   "source": [
    "RELU(H)"
   ]
  },
  {
   "cell_type": "markdown",
   "id": "de864869",
   "metadata": {
    "slideshow": {
     "slide_type": "slide"
    }
   },
   "source": [
    "#### Sigmoid & Softmax\n",
    "\n",
    "- The sigmoid function takes an input with two classes (like vectors encoding a coin toss) and \"squeezes\" these into a probablity\n",
    "- The softmax does the same for multilabel data\n",
    "    - These are the most common activation functions for the final layer of classifiers\n",
    "        - Most of NLP is classification, even language modelling"
   ]
  },
  {
   "cell_type": "markdown",
   "id": "eb551df7",
   "metadata": {
    "slideshow": {
     "slide_type": "slide"
    }
   },
   "source": [
    "**1. Sigmoid**\n",
    "- The sigmoid function is defined as:\n",
    "$$\n",
    "\\sigma(x) = \\frac{1}{1 + e^{-x}}\n",
    "$$\n",
    "\n",
    "- Note that we only need to input some $x$, because the probability distribution is over just two events\n",
    "    - When we get the sigmoid $\\sigma(\\text{heads})$ for \"heads\", \"tails\" is just: $\\sigma(\\text{tails}) = 1 - \\sigma(\\text{heads})$\n"
   ]
  },
  {
   "cell_type": "markdown",
   "id": "615926c6",
   "metadata": {
    "slideshow": {
     "slide_type": "slide"
    }
   },
   "source": [
    "**2. Softmax**\n",
    "- Now we have a multinomial distribution of possible events\n",
    "- We have to go over each element $z_i$ in the vector $Z$ of length $K$\n",
    "    - The softmax value is achieved by applying exponentiating $e$ by each value and then normalizing by taking their sum.\n",
    "\n",
    "$$\n",
    "\\sigma(z)_i = \\frac{e^{z_i}}{\\sum_j^K e^{z_j}}\n",
    "$$"
   ]
  },
  {
   "cell_type": "markdown",
   "id": "571bbf48-3213-4559-8189-44a0b1cc9e62",
   "metadata": {
    "slideshow": {
     "slide_type": "slide"
    },
    "tags": []
   },
   "source": [
    "## Loss & Backpropagation\n",
    "\n",
    "- **Goal:** Adjust each weight in the network in proportion to how much it contributes to overall error.\n",
    "    - Calculate the loss\n",
    "    - It's just a bunch of calculus\n",
    "- Main components:\n",
    "    - Loss function\n",
    "    - Derivative of the loss function\n",
    "- If $X$ is our input and our cross-entropy loss function is $L_{CE}$, then:\n",
    "    \n",
    "$$\n",
    "\\frac{\\partial L_{CE}}{\\partial X}\n",
    "$$"
   ]
  },
  {
   "cell_type": "markdown",
   "id": "08ca03ed",
   "metadata": {
    "slideshow": {
     "slide_type": "slide"
    }
   },
   "source": [
    "### Loss function\n",
    "\n",
    "- Usually cross-entropy, can be many others too:\n",
    "    - Mean Square Error (MSE), Mean Absolute Error (MAE), Kullback-Leibler ($\\mathbb{KL}$)\n",
    "- Cross-entropy\n",
    "    - Calculates the cost of encoding our data with the probabilities of our model\n",
    "    - We'll write it without the bias terms to make things a bit clearer\n",
    "    - We often take the log loss, because it is mathematically easier to operate with\n",
    "        - So the log of cross-entropy\n",
    "    - We've not looked at that, so let's stick the function we are familiar with from before"
   ]
  },
  {
   "cell_type": "markdown",
   "id": "1dbbcd39",
   "metadata": {},
   "source": [
    "$$\n",
    "\\begin{equation}\n",
    "    \\begin{aligned}\n",
    "    \\text{Loss} &= L_{CE}(Q) \\\\ \n",
    "    &= L_{CE}(\\sigma((W_OH)) \\\\\n",
    "    &= L_{CE}(\\sigma(W_O(XW_H))))\n",
    "    \\end{aligned}\n",
    "\\end{equation}\n",
    "$$\n",
    "\n",
    "$$\n",
    "\\text{Loss} = -\\sum_i^K y_i \\log L_{CE_i}\n",
    "$$\n",
    "\n",
    "$$\n",
    "\\text{Loss} = -\\sum_i^K y_i \\log (\\sigma(W_O(XW_H))))\n",
    "$$"
   ]
  },
  {
   "cell_type": "markdown",
   "id": "e200b297",
   "metadata": {
    "slideshow": {
     "slide_type": "slide"
    }
   },
   "source": [
    "### Gradient\n",
    "\n",
    "- In order to make the network \"learn\", we take the derivative of the loss for all the different variables that make it up\n",
    "- But this is a hard function to differentiate! \n",
    "    - We *could* differentiate it, but we won't\n",
    "    - Instead we'll work with toy examples to build intuition\n",
    "    - Modern frameworks for neural nets like PyTorch, JAX and TensorFlow automate the calculation of the gradient"
   ]
  },
  {
   "cell_type": "markdown",
   "id": "f1827cea",
   "metadata": {
    "slideshow": {
     "slide_type": "slide"
    }
   },
   "source": [
    "### Backprop\n",
    "\n",
    "- Then we \"propagate\" the derivatives backwards\n",
    "    - Correct each matrix in the **direction** of the derivative and by the **magnitude** of some value\n",
    "        - This value is the **learning rate**, usually a very small fraction"
   ]
  },
  {
   "cell_type": "markdown",
   "id": "c771cf37",
   "metadata": {
    "slideshow": {
     "slide_type": "slide"
    }
   },
   "source": [
    "## REPEAT!\n",
    "\n",
    "- Then we repeat everything\n",
    "- The number of times we repeat is decided by the number of **epochs** in our loop\n",
    "    - For each epoch we go over the entire data in pieces known as **\"batches\"**"
   ]
  },
  {
   "cell_type": "markdown",
   "id": "4781cb69",
   "metadata": {
    "slideshow": {
     "slide_type": "slide"
    }
   },
   "source": [
    "## Aside: The Derivative"
   ]
  },
  {
   "cell_type": "markdown",
   "id": "38461ec8-f4b8-4fde-a979-c393e0305481",
   "metadata": {
    "slideshow": {
     "slide_type": "fragment"
    }
   },
   "source": [
    "The [two (most common) ways to write the derivative](https://www.khanacademy.org/math/ap-calculus-ab/ab-differentiation-1-new/ab-2-1/a/derivative-notation-review) are:\n",
    "\n",
    "- Lagrange's notation: $f'(x)$\n",
    "- Leibniz's notation: $\\frac{df}{dx}$"
   ]
  },
  {
   "cell_type": "markdown",
   "id": "b644037b-ea28-43cc-b22e-40f29bc96393",
   "metadata": {
    "slideshow": {
     "slide_type": "fragment"
    }
   },
   "source": [
    "The former is maybe easier, but the latter is important once we start evaluating more complex derivatives for actual neural networks. We'll stick to Lagrange's notation through the first half of this lecture, then hop to Leibniz's notation."
   ]
  },
  {
   "cell_type": "markdown",
   "id": "eeffbc1d-ec17-4461-a5ee-6b48be0da8e2",
   "metadata": {
    "slideshow": {
     "slide_type": "slide"
    }
   },
   "source": [
    "**PROMPT:** What is the general rule for taking derivatives of a polynomial like $x^n$"
   ]
  },
  {
   "cell_type": "markdown",
   "id": "dcf81eee-c4b4-45f8-94a6-40e9b97f8cf9",
   "metadata": {
    "slideshow": {
     "slide_type": "fragment"
    }
   },
   "source": [
    "If $f(x) = x^n$, then\n",
    "\n",
    "$$\n",
    "f'(x) = \\frac{df}{dx} = nx^{n-1}\n",
    "$$"
   ]
  },
  {
   "cell_type": "code",
   "execution_count": 20,
   "id": "acc9d12b",
   "metadata": {
    "slideshow": {
     "slide_type": "slide"
    }
   },
   "outputs": [],
   "source": [
    "# objective function\n",
    "def f_polynomial(x):\n",
    "    return x**2.0\n",
    " \n",
    "# derivative of objective function\n",
    "def f_polynomial_gradient(x):\n",
    "    return x * 2.0"
   ]
  },
  {
   "cell_type": "code",
   "execution_count": 21,
   "id": "62b00008",
   "metadata": {
    "slideshow": {
     "slide_type": "fragment"
    }
   },
   "outputs": [],
   "source": [
    "xs = np.linspace(-5, 5, 1000)\n",
    "ys = f_polynomial(xs)"
   ]
  },
  {
   "cell_type": "code",
   "execution_count": 24,
   "id": "63721e65",
   "metadata": {
    "slideshow": {
     "slide_type": "slide"
    }
   },
   "outputs": [
    {
     "data": {
      "image/png": "[encoded data removed]",
      "text/plain": [
       "<Figure size 1500x900 with 1 Axes>"
      ]
     },
     "metadata": {},
     "output_type": "display_data"
    }
   ],
   "source": [
    "plot_function(xs, ys, [-5,5], [-1,25], 'Plot of a parabola')\n",
    "plt.show()"
   ]
  },
  {
   "cell_type": "markdown",
   "id": "00f9fa64",
   "metadata": {
    "slideshow": {
     "slide_type": "slide"
    }
   },
   "source": [
    "$$\n",
    "\\begin{equation}\n",
    "f(x) = x^2 \\\\\n",
    "f'(x) = 2x \\\\\n",
    "\\end{equation}\n",
    "$$"
   ]
  },
  {
   "cell_type": "markdown",
   "id": "6ae2adb0",
   "metadata": {
    "slideshow": {
     "slide_type": "slide"
    }
   },
   "source": [
    "**PROMPT:** What's the minima of this function?"
   ]
  },
  {
   "cell_type": "markdown",
   "id": "85cc9d18",
   "metadata": {
    "slideshow": {
     "slide_type": "fragment"
    }
   },
   "source": [
    "To find the minima, we set the derivative to zero and solve:\n",
    "\n",
    "$$\n",
    "2x = 0 \\\\\n",
    "x = 0\n",
    "$$\n",
    "\n",
    "&rarr; Our minima is when $x$ is zero"
   ]
  },
  {
   "cell_type": "code",
   "execution_count": 25,
   "id": "818e6087",
   "metadata": {
    "slideshow": {
     "slide_type": "slide"
    }
   },
   "outputs": [],
   "source": [
    "x_gradients = np.linspace(-5, 5, 1000)\n",
    "y_gradients = f_polynomial_gradient(x_gradients)"
   ]
  },
  {
   "cell_type": "code",
   "execution_count": 26,
   "id": "4201657c",
   "metadata": {
    "slideshow": {
     "slide_type": "slide"
    }
   },
   "outputs": [
    {
     "data": {
      "image/png": "[encoded data removed]",
      "text/plain": [
       "<Figure size 1500x900 with 1 Axes>"
      ]
     },
     "metadata": {},
     "output_type": "display_data"
    }
   ],
   "source": [
    "plot_function(x_gradients, y_gradients, [-5,5], [-10,10], 'Gradient of a parabola')"
   ]
  },
  {
   "cell_type": "markdown",
   "id": "3ffca048",
   "metadata": {
    "slideshow": {
     "slide_type": "slide"
    }
   },
   "source": [
    "## Backprop: Gradient Descent\n",
    "\n",
    "- Above we have derived the gradient analytically\n",
    "- We **know** where the parabola has its minima\n",
    "- But sometimes we don't have this information\n",
    "    - The gradient can be some very complex function over many dimensions\n",
    "    - Instead of analytically solving the gradient for minima, we evaluate it at specific points, like in the interactive plot above\n",
    "- What we need:\n",
    "    - An objective function\n",
    "    - The derivative of the objective function"
   ]
  },
  {
   "cell_type": "code",
   "execution_count": 27,
   "id": "73870ea7-d0b1-40d9-9708-92be232c91cb",
   "metadata": {
    "slideshow": {
     "slide_type": "slide"
    }
   },
   "outputs": [
    {
     "data": {
      "image/png": "[encoded data removed]",
      "text/plain": [
       "<Figure size 1500x900 with 1 Axes>"
      ]
     },
     "metadata": {},
     "output_type": "display_data"
    }
   ],
   "source": [
    "plot_tangent_at_points(xs, ys, f_polynomial,f_polynomial_gradient,[-4, 0, 4])"
   ]
  },
  {
   "cell_type": "code",
   "execution_count": 28,
   "id": "4ea78438-a948-4cca-89ec-707c0f68a27a",
   "metadata": {
    "slideshow": {
     "slide_type": "slide"
    }
   },
   "outputs": [
    {
     "ename": "ModuleNotFoundError",
     "evalue": "No module named 'ipywidgets'",
     "output_type": "error",
     "traceback": [
      "\u001b[0;31m---------------------------------------------------------------------------\u001b[0m",
      "\u001b[0;31mModuleNotFoundError\u001b[0m                       Traceback (most recent call last)",
      "Cell \u001b[0;32mIn[28], line 1\u001b[0m\n\u001b[0;32m----> 1\u001b[0m \u001b[38;5;28;01mimport\u001b[39;00m \u001b[38;5;21;01mipywidgets\u001b[39;00m \u001b[38;5;28;01mas\u001b[39;00m \u001b[38;5;21;01mwidgets\u001b[39;00m\n\u001b[1;32m      3\u001b[0m \u001b[38;5;28;01mfrom\u001b[39;00m \u001b[38;5;21;01mipywidgets\u001b[39;00m \u001b[38;5;28;01mimport\u001b[39;00m interactive\n",
      "\u001b[0;31mModuleNotFoundError\u001b[0m: No module named 'ipywidgets'"
     ]
    }
   ],
   "source": [
    "import ipywidgets as widgets\n",
    "\n",
    "from ipywidgets import interactive"
   ]
  },
  {
   "cell_type": "code",
   "execution_count": 29,
   "id": "52919cee",
   "metadata": {
    "slideshow": {
     "slide_type": "fragment"
    }
   },
   "outputs": [
    {
     "ename": "NameError",
     "evalue": "name 'interactive' is not defined",
     "output_type": "error",
     "traceback": [
      "\u001b[0;31m---------------------------------------------------------------------------\u001b[0m",
      "\u001b[0;31mNameError\u001b[0m                                 Traceback (most recent call last)",
      "Cell \u001b[0;32mIn[29], line 1\u001b[0m\n\u001b[0;32m----> 1\u001b[0m interactive_tangent \u001b[38;5;241m=\u001b[39m \u001b[43minteractive\u001b[49m(tangent_plot, x1 \u001b[38;5;241m=\u001b[39m (\u001b[38;5;241m-\u001b[39m\u001b[38;5;241m8\u001b[39m,\u001b[38;5;241m8\u001b[39m), step \u001b[38;5;241m=\u001b[39m\u001b[38;5;241m100\u001b[39m)\n\u001b[1;32m      2\u001b[0m interactive_tangent\n",
      "\u001b[0;31mNameError\u001b[0m: name 'interactive' is not defined"
     ]
    }
   ],
   "source": [
    "interactive_tangent = interactive(tangent_plot, x1 = (-8,8), step =100)\n",
    "interactive_tangent"
   ]
  },
  {
   "cell_type": "markdown",
   "id": "62bae96e-9b2e-46a0-a92e-e229cc3ec735",
   "metadata": {
    "slideshow": {
     "slide_type": "slide"
    }
   },
   "source": [
    "So how do we create this movement? Like this:\n",
    "1. We pick a random point $a$ for $x$\n",
    "2. We evaluate the derivative of our objective function at this point\n",
    "    - I.e we take $f'(a)$\n",
    "3. Now, one of two things can happen:\n",
    "    - The derivative is positive, i.e. $f'(x) > 0$: We move up\n",
    "    - The derivative is negative, i.e. $f'(x) < 0$: We move down\n",
    "        - The size of the above steps is determined by the **learning rate** multiplied with $f'(a)$\n",
    "4. Repeat for $n$ **epochs** OR until $f'(x) = 0$"
   ]
  },
  {
   "cell_type": "markdown",
   "id": "73abd9a3-be70-4813-83fd-8e31313d6d26",
   "metadata": {
    "slideshow": {
     "slide_type": "slide"
    }
   },
   "source": [
    "**PROMPT:** Code the above function for ```f_polynomial``` <div>\n",
    "**Hint 1:** You will need to use ```f_polynomial_gradient``` inside a for-loop <div>\n",
    "**Hint 2:** You will need to set:\n",
    "1. A random starting point\n",
    "2. The learning rate\n",
    "3. The number of epochs"
   ]
  },
  {
   "cell_type": "markdown",
   "id": "4b0de540-e456-4425-8b7f-0fd5eff6a9c6",
   "metadata": {
    "slideshow": {
     "slide_type": "slide"
    }
   },
   "source": [
    "Okay, here is a version of the function:"
   ]
  },
  {
   "cell_type": "code",
   "execution_count": 32,
   "id": "942d5f22",
   "metadata": {
    "slideshow": {
     "slide_type": "fragment"
    }
   },
   "outputs": [
    {
     "ename": "SyntaxError",
     "evalue": "non-default argument follows default argument (4208445461.py, line 1)",
     "output_type": "error",
     "traceback": [
      "\u001b[0;36m  Cell \u001b[0;32mIn[32], line 1\u001b[0;36m\u001b[0m\n\u001b[0;31m    def gradient_descent_simple(gradient_function, start=10, learn_rate, n_iter):\u001b[0m\n\u001b[0m                                                             ^\u001b[0m\n\u001b[0;31mSyntaxError\u001b[0m\u001b[0;31m:\u001b[0m non-default argument follows default argument\n"
     ]
    }
   ],
   "source": [
    "def gradient_descent_simple(gradient_function, start=10, learn_rate, n_iter):\n",
    "    gradient_vector = start\n",
    "    for _ in range(n_iter):\n",
    "        diff = -learn_rate * gradient_function(gradient_vector)\n",
    "        gradient_vector += diff\n",
    "    return gradient_vector\n"
   ]
  },
  {
   "cell_type": "markdown",
   "id": "c0ef8548-3c14-4c29-a80b-1360aaa1e67e",
   "metadata": {
    "slideshow": {
     "slide_type": "slide"
    }
   },
   "source": [
    "We know it works if it will be able to approximate that the minima of $x^2$ is $0$. And it does:"
   ]
  },
  {
   "cell_type": "code",
   "execution_count": 33,
   "id": "70695686-8c00-4008-9cd5-7f866c850ba9",
   "metadata": {
    "slideshow": {
     "slide_type": "fragment"
    }
   },
   "outputs": [
    {
     "ename": "NameError",
     "evalue": "name 'start' is not defined",
     "output_type": "error",
     "traceback": [
      "\u001b[0;31m---------------------------------------------------------------------------\u001b[0m",
      "\u001b[0;31mNameError\u001b[0m                                 Traceback (most recent call last)",
      "Cell \u001b[0;32mIn[33], line 3\u001b[0m\n\u001b[1;32m      1\u001b[0m gradient \u001b[38;5;241m=\u001b[39m gradient_descent_simple(\n\u001b[1;32m      2\u001b[0m     gradient_function\u001b[38;5;241m=\u001b[39mf_polynomial_gradient,\n\u001b[0;32m----> 3\u001b[0m     start\u001b[38;5;241m=\u001b[39m\u001b[43mstart\u001b[49m,\n\u001b[1;32m      4\u001b[0m     learn_rate\u001b[38;5;241m=\u001b[39mlr,\n\u001b[1;32m      5\u001b[0m     n_iter\u001b[38;5;241m=\u001b[39m\u001b[38;5;241m50\u001b[39m)\n\u001b[1;32m      7\u001b[0m np\u001b[38;5;241m.\u001b[39mround(gradient, \u001b[38;5;241m0\u001b[39m)\n",
      "\u001b[0;31mNameError\u001b[0m: name 'start' is not defined"
     ]
    }
   ],
   "source": [
    "gradient = gradient_descent_simple(\n",
    "    gradient_function=f_polynomial_gradient,\n",
    "    start=start,\n",
    "    learn_rate=lr,\n",
    "    n_iter=50)\n",
    "\n",
    "np.round(gradient, 0)"
   ]
  },
  {
   "cell_type": "markdown",
   "id": "7d24e288-4e04-4a9d-a8de-b361eb5bf4ac",
   "metadata": {
    "slideshow": {
     "slide_type": "slide"
    }
   },
   "source": [
    "Okay, to understand the internal workings of this approach, we will now use a more complicated function. We want to track how the algorithm moves through both $f(x)$ and $f'(x)$ over our epochs. We will also add a new variable, \"tolerance\". If our gradient steps fall below this very small value, we stop the algorithm."
   ]
  },
  {
   "cell_type": "code",
   "execution_count": null,
   "id": "f5930d2e-cae2-419f-8936-d1631d777021",
   "metadata": {
    "slideshow": {
     "slide_type": "slide"
    }
   },
   "outputs": [],
   "source": [
    "def gradient_descent(\n",
    "    objective, gradient, start, learn_rate, n_epochs=50, tolerance=1e-06, print_epochs=False):\n",
    "    vector = [start]\n",
    "    evals = []\n",
    "    eval_ =  objective(start)\n",
    "    if print_epochs:\n",
    "        print(f'Start: f({start}) = {round(eval_,20)}')\n",
    "    evals.append(eval_)\n",
    "    for idx, _ in enumerate(range(n_epochs)):\n",
    "        diff = -learn_rate * gradient(vector[idx])\n",
    "        if np.all(np.abs(diff) <= tolerance):\n",
    "            break\n",
    "        current = vector[idx] + diff\n",
    "        eval_ =  objective(current)\n",
    "        if print_epochs:\n",
    "            print(f'Epoch {idx}: f({current}) = {round(eval_,20)}')\n",
    "        vector.append(current)\n",
    "        evals.append(eval_)\n",
    "    return vector, evals"
   ]
  },
  {
   "cell_type": "code",
   "execution_count": null,
   "id": "dc5c9298",
   "metadata": {
    "slideshow": {
     "slide_type": "slide"
    }
   },
   "outputs": [],
   "source": [
    "lr = 0.2\n",
    "start = 10.0\n",
    "n_epochs = 50\n",
    "\n",
    "gradients, evals = gradient_descent(\n",
    "    objective=f_polynomial,\n",
    "    gradient=f_polynomial_gradient,\n",
    "    start=start,\n",
    "    learn_rate=lr,\n",
    "    n_epochs=n_epochs\n",
    ")"
   ]
  },
  {
   "cell_type": "markdown",
   "id": "e8c7e71b-c3c6-4c83-8528-5fb5b2fc9150",
   "metadata": {
    "slideshow": {
     "slide_type": "slide"
    }
   },
   "source": [
    "We will draw $x^2$ from -10.5 to 10.5"
   ]
  },
  {
   "cell_type": "code",
   "execution_count": null,
   "id": "07f1ba3f-f00a-4e5b-897e-051aafd46683",
   "metadata": {
    "slideshow": {
     "slide_type": "fragment"
    }
   },
   "outputs": [],
   "source": [
    "parabola_x = np.linspace(-10.5,10.5,1000)"
   ]
  },
  {
   "cell_type": "markdown",
   "id": "48610358-549f-4469-82dc-eb24d7bcdaf9",
   "metadata": {
    "slideshow": {
     "slide_type": "fragment"
    }
   },
   "source": [
    "And now we can see how the algorithm works. "
   ]
  },
  {
   "cell_type": "code",
   "execution_count": null,
   "id": "e79a0e1c-4222-4919-b608-77bc37b53858",
   "metadata": {
    "slideshow": {
     "slide_type": "slide"
    }
   },
   "outputs": [],
   "source": [
    "plot_gradient_descent(gradients, f_polynomial, parabola_x, \n",
    "                      ylim=[-1, 115], xlim=[-15, 15],\n",
    "                      title=f'Gradient descent on a parabola - Learning rate:{lr}')"
   ]
  },
  {
   "cell_type": "markdown",
   "id": "e7769464-c648-4a10-b3d3-631deb589262",
   "metadata": {
    "slideshow": {
     "slide_type": "slide"
    }
   },
   "source": [
    "Our algorithm starts at $10$, our chosen random starting value. Then it takes a HUGE step. \n",
    "\n",
    "**PROMPT:** Why?"
   ]
  },
  {
   "cell_type": "markdown",
   "id": "03b8bbb3",
   "metadata": {},
   "source": [
    "Well, because:\n",
    "\n",
    "$$\n",
    "f'(10) = 2 \\times 10 = 20\n",
    "$$\n",
    "\n",
    "We then multiply that by our learning rate to get the step size:\n",
    "\n",
    "$$\n",
    "\\text{step size} = 20 \\times 0.2 = 4\n",
    "$$\n",
    "\n",
    "Now we subtract this from our initial value and start over. So, since $10 - 4 = 6$, we start at $6$:\n",
    "\n",
    "$$\n",
    "f'(6) = 2 \\times 6 = 12 \\\\\n",
    "\\text{step size} = 12 \\times 0.2 = 2.4\n",
    "$$\n",
    "\n",
    "Now the next steps starts at $3.6$...\n",
    "\n",
    "And so on... for $50$ epochs OR until the step size is zero."
   ]
  },
  {
   "cell_type": "markdown",
   "id": "6bcf3442-c717-4017-810b-51d4ca490a7b",
   "metadata": {
    "slideshow": {
     "slide_type": "slide"
    }
   },
   "source": [
    "If we look at our list of gradients, we see that this is indeed what's going on. We start at $10$, move to $6$, then to $3.6$..."
   ]
  },
  {
   "cell_type": "code",
   "execution_count": null,
   "id": "a0dc3539-ab61-488d-b170-ac41303b923a",
   "metadata": {
    "slideshow": {
     "slide_type": "fragment"
    }
   },
   "outputs": [],
   "source": [
    "np.round(gradients[:3], 2)"
   ]
  },
  {
   "cell_type": "markdown",
   "id": "1916b5ef-4d23-4c82-aa33-c2d513fdbeb5",
   "metadata": {
    "slideshow": {
     "slide_type": "slide"
    }
   },
   "source": [
    "### Learning Rate & Epochs"
   ]
  },
  {
   "cell_type": "markdown",
   "id": "a030598c-9ad2-4e9e-aa16-7439c2b7ca24",
   "metadata": {
    "slideshow": {
     "slide_type": "fragment"
    }
   },
   "source": [
    "Let's now take a closer look at our learning rate and epochs. It seems like they should matter quite a bit for how the algorithm performs. Let's first set our learning rate to 0.8, much higher than before. For instance, our first step would now be $16$ instead of $4$, throwing us from $x=10$ all the way to $x=-6$."
   ]
  },
  {
   "cell_type": "code",
   "execution_count": null,
   "id": "67bb01df-4bad-43bb-baf1-834699b18620",
   "metadata": {
    "slideshow": {
     "slide_type": "slide"
    }
   },
   "outputs": [],
   "source": [
    "lr = 0.8\n",
    "start = 10.0\n",
    "\n",
    "gradients, evals = gradient_descent(\n",
    "    objective=f_polynomial,\n",
    "    gradient=f_polynomial_gradient,\n",
    "    start=start,\n",
    "    learn_rate=lr,\n",
    "    n_epochs=n_epochs\n",
    ")"
   ]
  },
  {
   "cell_type": "markdown",
   "id": "277a5614-ec69-4d46-94b6-c70f20cf9563",
   "metadata": {
    "slideshow": {
     "slide_type": "slide"
    }
   },
   "source": [
    "And yeah, that's indeed quite a jump! If we were working with a more unusual objective function, these kinds of erratic movements could take us all kinds of weird places. We want the learning process to be *smooth*."
   ]
  },
  {
   "cell_type": "code",
   "execution_count": null,
   "id": "1820a780-b28a-4181-9715-2fa373e8bd1c",
   "metadata": {
    "slideshow": {
     "slide_type": "fragment"
    }
   },
   "outputs": [],
   "source": [
    "plot_gradient_descent(gradients, f_polynomial, parabola_x, \n",
    "                      ylim=[-1, 115], xlim=[-15, 15],\n",
    "                      title=f'Gradient descent on a parabola - Learning rate:{lr}')"
   ]
  },
  {
   "cell_type": "markdown",
   "id": "103247ab-5cce-4600-adfd-b8a9a9c9c3d1",
   "metadata": {
    "slideshow": {
     "slide_type": "slide"
    }
   },
   "source": [
    "What happens if we instead lower the learning rate?"
   ]
  },
  {
   "cell_type": "code",
   "execution_count": null,
   "id": "a83da141-1eb8-4141-b233-592e8175c1ed",
   "metadata": {
    "slideshow": {
     "slide_type": "fragment"
    }
   },
   "outputs": [],
   "source": [
    "lr = 0.01\n",
    "start = 10.0\n",
    "\n",
    "gradients, evals = gradient_descent(\n",
    "    objective=f_polynomial,\n",
    "    gradient=f_polynomial_gradient,\n",
    "    start=start,\n",
    "    learn_rate=lr\n",
    ")\n",
    "\n",
    "plot_gradient_descent(gradients, f_polynomial, parabola_x, \n",
    "                      ylim=[-1, 115], xlim=[-15, 15],\n",
    "                     title=f'Gradient descent on a parabola - Learning rate:{lr}')"
   ]
  },
  {
   "cell_type": "markdown",
   "id": "ccc9a803-e4f7-41b1-8a72-25338c2269e9",
   "metadata": {
    "slideshow": {
     "slide_type": "slide"
    }
   },
   "source": [
    "We don't even get to the minima!"
   ]
  },
  {
   "cell_type": "markdown",
   "id": "6ffc41e1-388a-47cc-a0e6-22eed53ebc72",
   "metadata": {
    "slideshow": {
     "slide_type": "fragment"
    }
   },
   "source": [
    "We can get there by iterating over more epochs, but we have to go about as high as $200$. That will be computationally much more costy than working with a good learning rate."
   ]
  },
  {
   "cell_type": "code",
   "execution_count": null,
   "id": "2999c4c3-96f5-468d-99d4-c026e1d30b57",
   "metadata": {
    "slideshow": {
     "slide_type": "slide"
    }
   },
   "outputs": [],
   "source": [
    "lr = 0.01\n",
    "start = 10.0\n",
    "epochs = 100\n",
    "\n",
    "gradients, evals = gradient_descent(\n",
    "    objective=f_polynomial,\n",
    "    gradient=f_polynomial_gradient,\n",
    "    start=start,\n",
    "    learn_rate=lr,\n",
    "    n_epochs = 200\n",
    ")\n",
    "\n",
    "plot_gradient_descent(gradients, f_polynomial, parabola_x, \n",
    "                      ylim=[-1, 115], xlim=[-15, 15],\n",
    "                     title=f'Gradient descent on a parabola - Learning rate:{lr}')"
   ]
  },
  {
   "cell_type": "markdown",
   "id": "631f4ec5-b335-4043-b770-d5adcd076bbb",
   "metadata": {
    "slideshow": {
     "slide_type": "slide"
    }
   },
   "source": [
    "### Local Min & Max, Saddle Points"
   ]
  },
  {
   "cell_type": "markdown",
   "id": "743ad222-b4da-4c08-96eb-83ae0592d742",
   "metadata": {
    "slideshow": {
     "slide_type": "fragment"
    }
   },
   "source": [
    "So far we've been playing with a very simple objective function ($x^2$) with a very simple gradient function ($2x$). To understand what kind of issues might arrise with an actual objective function like cross-entropy or mean squared errors, we should plot something a tiny bit more complicated. Let's go over two examples."
   ]
  },
  {
   "cell_type": "markdown",
   "id": "3e443e6e-060a-4fce-807f-3d4c4c6e83c3",
   "metadata": {
    "slideshow": {
     "slide_type": "fragment"
    }
   },
   "source": [
    "First, let's see what kind of gradient we get for $-x^3$."
   ]
  },
  {
   "cell_type": "markdown",
   "id": "d60456ef-a329-451f-8917-25bed9dd5e20",
   "metadata": {
    "slideshow": {
     "slide_type": "slide"
    }
   },
   "source": [
    "**PROMPT:** What is the derivative of $-x^3$?"
   ]
  },
  {
   "cell_type": "markdown",
   "id": "c85cee6c-9b4d-4b0c-9270-85c638127ea7",
   "metadata": {
    "slideshow": {
     "slide_type": "fragment"
    }
   },
   "source": [
    "The derivative we need is $-3x^2$."
   ]
  },
  {
   "cell_type": "markdown",
   "id": "39241e76-cb53-4426-ae5c-21521f7f33f0",
   "metadata": {
    "slideshow": {
     "slide_type": "slide"
    }
   },
   "source": [
    "**PROMPT:** Now, write the functions ```f_third_order```and ```f_third_order_gradient``` for the objective function and it's derivative, respectively."
   ]
  },
  {
   "cell_type": "code",
   "execution_count": null,
   "id": "6527c7c3-7cc2-4243-8701-b736907003a1",
   "metadata": {
    "slideshow": {
     "slide_type": "fragment"
    }
   },
   "outputs": [],
   "source": [
    "def f_third_order(x):\n",
    "    return -x**3\n",
    "\n",
    "def f_third_order_gradient(x):\n",
    "    return -3*x**2"
   ]
  },
  {
   "cell_type": "markdown",
   "id": "c51f45a9-ff32-4e64-8cd0-88a9e30bf195",
   "metadata": {
    "slideshow": {
     "slide_type": "fragment"
    }
   },
   "source": [
    "Seems to work fine..."
   ]
  },
  {
   "cell_type": "code",
   "execution_count": null,
   "id": "32612ea8-ddec-42c1-a7c5-750b34e7f943",
   "metadata": {
    "slideshow": {
     "slide_type": "fragment"
    }
   },
   "outputs": [],
   "source": [
    "f_third_order(4)"
   ]
  },
  {
   "cell_type": "code",
   "execution_count": null,
   "id": "93e5bf7d-ea86-4d16-b4f6-d5e3e576f12c",
   "metadata": {
    "slideshow": {
     "slide_type": "fragment"
    }
   },
   "outputs": [],
   "source": [
    "f_third_order_gradient(4)"
   ]
  },
  {
   "cell_type": "markdown",
   "id": "2e95450c-dc51-41ab-85d4-cf0dbb85d58e",
   "metadata": {
    "slideshow": {
     "slide_type": "slide"
    }
   },
   "source": [
    "**PROMPT:** Run gradient descent with these functions. Use ```lr=0.1```and start at ```-2```. What kind of problem do you notice? What happens when you change the ```lr```and start values?"
   ]
  },
  {
   "cell_type": "code",
   "execution_count": null,
   "id": "9bc33309-6074-4422-9ea8-c88d57dce29f",
   "metadata": {
    "slideshow": {
     "slide_type": "slide"
    }
   },
   "outputs": [],
   "source": [
    "start = -2\n",
    "lr = 0.1\n",
    "\n",
    "gradients, evals = gradient_descent(\n",
    "    objective=f_third_order,\n",
    "    gradient=f_third_order_gradient,\n",
    "    start=start,\n",
    "    learn_rate=lr\n",
    ")"
   ]
  },
  {
   "cell_type": "code",
   "execution_count": null,
   "id": "bae9b7e1-8d27-4df4-b901-a39679eb901f",
   "metadata": {
    "slideshow": {
     "slide_type": "slide"
    }
   },
   "outputs": [],
   "source": [
    "plot_gradient_descent(gradients, f_third_order,\n",
    "                      parabola_x, ylim=[-15, 40], xlim=[-3, 3],\n",
    "                      title=f'Gradient descent on function with a saddle point - LR:{lr}')"
   ]
  },
  {
   "cell_type": "markdown",
   "id": "f4c12bc8-2210-4022-a780-0ecdf731699d",
   "metadata": {
    "slideshow": {
     "slide_type": "slide"
    }
   },
   "source": [
    "So, indeed, there is an issue: The function clearly isn't at it's minima, but our algorithm has stopped. Why?"
   ]
  },
  {
   "cell_type": "markdown",
   "id": "7832c0f0",
   "metadata": {
    "slideshow": {
     "slide_type": "slide"
    }
   },
   "source": [
    "**PROMPT:** Now, what is the minima of $-x^3$"
   ]
  },
  {
   "cell_type": "markdown",
   "id": "a4aa79e6",
   "metadata": {
    "slideshow": {
     "slide_type": "fragment"
    }
   },
   "source": [
    "If we set the derivative to zero and solve, we get:\n",
    "    \n",
    "$$\n",
    "-3x^2 = 0 \\\\\n",
    "x = \\sqrt(0) \\\\\n",
    "x = 0\n",
    "$$\n",
    "\n",
    "But is this a minima? No, it's not.\n",
    "\n",
    "**PROMPT:** Why?"
   ]
  },
  {
   "cell_type": "markdown",
   "id": "63be0ca6",
   "metadata": {},
   "source": [
    "Well, to find out if a function is *actually* at it's minima, we would have to see whether the derivatives at points right before and after zero are of opposite signs (indicating the slope of the function first rises and falls, or vice versa). This is not the case here. A sloppy demonstration:\n",
    "\n",
    "$$\n",
    "-3 (1)^2 = -3\n",
    "$$\n",
    "\n",
    "$$\n",
    "-3 (-1)^2 = -3\n",
    "$$"
   ]
  },
  {
   "cell_type": "markdown",
   "id": "100cb34f-ed5c-409e-816e-5a066214106d",
   "metadata": {
    "slideshow": {
     "slide_type": "fragment"
    }
   },
   "source": [
    "**PROMPT:** Why did our algorithm get stuck around $x=0$?"
   ]
  },
  {
   "cell_type": "markdown",
   "id": "cc05a3df-1c23-4db9-b879-5079f44ea4a0",
   "metadata": {
    "slideshow": {
     "slide_type": "fragment"
    }
   },
   "source": [
    "Well, because the derivative also evaluates to zero here:\n",
    "\n",
    "$$\n",
    "f'(x) = -3x^2 \\\\\n",
    "f'(0) = -3 \\times0^2\n",
    "$$"
   ]
  },
  {
   "cell_type": "markdown",
   "id": "25d5c9da-96bd-47cd-ad17-b5d1b67a3305",
   "metadata": {
    "slideshow": {
     "slide_type": "fragment"
    }
   },
   "source": [
    "We get stuck at a [**saddle point**](https://en.wikipedia.org/wiki/Saddle_point): An inflection point where the derivative is first negative, then zero, then negative again."
   ]
  },
  {
   "cell_type": "markdown",
   "id": "c8bb3b24-478c-4b1e-8aeb-50c2cf424ecd",
   "metadata": {
    "slideshow": {
     "slide_type": "slide"
    }
   },
   "source": [
    "And there are other types of pitfalls (literally!). Let's explore another function to see what:\n",
    "\n",
    "$$\n",
    "f(x) = x^4 - 5x^2 - 3x\n",
    "$$"
   ]
  },
  {
   "cell_type": "markdown",
   "id": "1addbbf6-3835-49c4-a405-6c1a2483912d",
   "metadata": {
    "slideshow": {
     "slide_type": "fragment"
    }
   },
   "source": [
    "**PROMPT:** What is the derivative of this function?"
   ]
  },
  {
   "cell_type": "markdown",
   "id": "e844d63e",
   "metadata": {
    "slideshow": {
     "slide_type": "fragment"
    }
   },
   "source": [
    "$$\n",
    "f'(x) = 4x^3 - 10x - 3\n",
    "$$"
   ]
  },
  {
   "cell_type": "code",
   "execution_count": null,
   "id": "ab1ef6ef-939f-4c91-9220-843e47d0a16e",
   "metadata": {
    "slideshow": {
     "slide_type": "slide"
    }
   },
   "outputs": [],
   "source": [
    "def f_higher_polynomial(x):\n",
    "    return x**4 - 5*(x**2) - 3*x\n",
    "\n",
    "def f_higher_polynomial_gradient(x):\n",
    "    return 4*(x**3) - 10*x - 3"
   ]
  },
  {
   "cell_type": "markdown",
   "id": "e1609765-9202-488f-9fdf-95b846ed111e",
   "metadata": {
    "slideshow": {
     "slide_type": "fragment"
    }
   },
   "source": [
    "Now let's plot that."
   ]
  },
  {
   "cell_type": "code",
   "execution_count": null,
   "id": "dace8ca8-440b-4559-8a22-10b66b057994",
   "metadata": {
    "slideshow": {
     "slide_type": "slide"
    },
    "tags": []
   },
   "outputs": [],
   "source": [
    "start = -2\n",
    "lr = 0.2\n",
    "\n",
    "gradients, evals = gradient_descent(\n",
    "    objective=f_higher_polynomial,\n",
    "    gradient=f_higher_polynomial_gradient,\n",
    "    start=0.0,\n",
    "    learn_rate=0.2\n",
    ")"
   ]
  },
  {
   "cell_type": "code",
   "execution_count": null,
   "id": "c257b2db-aac8-4bf7-8145-8b2c75e74c8b",
   "metadata": {
    "slideshow": {
     "slide_type": "slide"
    }
   },
   "outputs": [],
   "source": [
    "plot_gradient_descent(gradients, f_higher_polynomial,\n",
    "                      parabola_x, \n",
    "                      ylim=[-15, 40], xlim=[-3, 3],\n",
    "                      title=f'Gradient descent on a higher order polynomial - LR:{lr}')"
   ]
  },
  {
   "cell_type": "markdown",
   "id": "838a6b81-2a76-4210-897a-40a510ddac88",
   "metadata": {
    "slideshow": {
     "slide_type": "slide"
    }
   },
   "source": [
    "Uh-oh, more trouble! \n",
    "\n",
    "**PROMPT:** What't the problem here?"
   ]
  },
  {
   "cell_type": "markdown",
   "id": "9ec4e245-f2a9-4c2d-8c4f-a1b865e2cb19",
   "metadata": {
    "slideshow": {
     "slide_type": "slide"
    }
   },
   "source": [
    "We've hit a **local minima**, but not *the* **global minima** of the function! Complex functions will often, in addition to a global minima and maxima, also have:\n",
    "\n",
    "- Local minima\n",
    "- Local maxima\n",
    "- Saddle points\n",
    "\n",
    "<center>\n",
    "<div>\n",
    "<img src=\"../../img/DL_book_min_max_saddle.png\" width=\"80%\"\n",
    "     caption=\"test\"/>\n",
    "    <figcaption>Source: Goodfellow et al. 2016</figcaption>\n",
    "</div>\n",
    "</center>"
   ]
  },
  {
   "cell_type": "markdown",
   "id": "2075da6c-7e84-48db-b28c-bcd66da33002",
   "metadata": {
    "slideshow": {
     "slide_type": "slide"
    }
   },
   "source": [
    "There are different tricks for getting past these, indeed entire fields of inquiry dedicated to these problems. A common trick is, like above, to fiddle with the learning rate. Turns out that does the trick here:"
   ]
  },
  {
   "cell_type": "code",
   "execution_count": null,
   "id": "db80078e-cf08-462c-bcf2-c7bb57e35bea",
   "metadata": {
    "slideshow": {
     "slide_type": "slide"
    }
   },
   "outputs": [],
   "source": [
    "start = 0.0\n",
    "lr = 0.1\n",
    "\n",
    "gradients, evals = gradient_descent(\n",
    "    objective=f_higher_polynomial,\n",
    "    gradient=f_higher_polynomial_gradient,\n",
    "    start=start,\n",
    "    learn_rate=lr\n",
    ")"
   ]
  },
  {
   "cell_type": "code",
   "execution_count": null,
   "id": "e171ad64-7099-41cc-bbf1-b0b98b00bdb2",
   "metadata": {
    "slideshow": {
     "slide_type": "slide"
    }
   },
   "outputs": [],
   "source": [
    "plot_gradient_descent(gradients, f_higher_polynomial,\n",
    "                      parabola_x, ylim=[-15, 40], xlim=[-3, 3],\n",
    "                      title=f'Gradient descent on a higher order polynomial - LR:{lr}')"
   ]
  },
  {
   "cell_type": "markdown",
   "id": "ef20fcb7",
   "metadata": {
    "slideshow": {
     "slide_type": "slide"
    },
    "tags": []
   },
   "source": [
    "## Backprop: The Chain Rule"
   ]
  },
  {
   "cell_type": "markdown",
   "id": "1a592b24-fa88-43a7-8d24-c02a3ef0270d",
   "metadata": {
    "slideshow": {
     "slide_type": "slide"
    }
   },
   "source": [
    "So far we've dealt with functions that are very simple. Yes, maybe the polynomial is higher order, but we can just apply the rule that $f'(x) = nx^{x-n}$. Most derivatives in a neural net are not so simple! Let's take an example. How would we differentiate this function?\n",
    "\n",
    "$$\n",
    "f(x) = (2x - 3)^4 \n",
    "$$"
   ]
  },
  {
   "cell_type": "markdown",
   "id": "50f4a6a6-b208-4c08-a21a-5383b2f3f7a9",
   "metadata": {},
   "source": [
    "We will need to use the **chain rule**. Before we define it, let's build some intuition. This is in fact a **composite function.** If\n",
    "\n",
    "$$\n",
    "g(x) = 2x - 3\n",
    "$$\n",
    "\n",
    "then\n",
    "\n",
    "$$\n",
    "f(x) = f(g(x))\n",
    "$$"
   ]
  },
  {
   "cell_type": "markdown",
   "id": "dac19902-b7d8-4f72-9222-d19ecc4d81d0",
   "metadata": {},
   "source": [
    "We can continue this logic. In fact, composite functions are often compared to nested Matryoshka dolls."
   ]
  },
  {
   "cell_type": "markdown",
   "id": "c53b12e1-d6d2-4029-9e59-f875eb328494",
   "metadata": {
    "tags": []
   },
   "source": [
    "<center>\n",
    "<div>\n",
    "<img src=\"../../img/chain_rule-dolls.gif\" width=\"50%\"\n",
    "     caption=\"test\"/>\n",
    "    <figcaption>The Chain Rule is like a (friendly! not scary) nested doll: You take the derivative of each doll (then multiply them all)</figcaption>\n",
    "</div>\n",
    "</center>"
   ]
  },
  {
   "cell_type": "markdown",
   "id": "6663b1f9-e4fe-4634-9cd7-929389b7745a",
   "metadata": {},
   "source": [
    "The Chain Rule of Calculus tells us how we can take the derivative of these kinds of nested composite functions. Let's start with [an example](https://www.technologyuk.net/mathematics/differential-calculus/differential-calculus-the-chain-rule.shtml), the function above. If $y = (2x - 3)^4$ and $u = 2x - 3$, then:\n",
    "\n",
    "$$\n",
    "y = u^4 \\\\\n",
    "u = 2x - 3\n",
    "$$"
   ]
  },
  {
   "cell_type": "markdown",
   "id": "feea5c01-eba7-4ef4-9065-c8b4a1284479",
   "metadata": {},
   "source": [
    "What do we get if we take the derivative of these two separately? Let's switch to Leibnitz's notation now, it will be easier to keep track of things. So:\n",
    "\n",
    "$$\n",
    "\\frac{\\partial y}{\\partial u} = 4u^3 \\\\\n",
    "\\frac{\\partial u}{\\partial x} = 2 \\\\\n",
    "$$"
   ]
  },
  {
   "cell_type": "markdown",
   "id": "8e9ac5e8-361c-4499-bd49-24ece038ea46",
   "metadata": {},
   "source": [
    "Okay, but we wanted to find out $\\frac{\\partial y}{\\partial x}$, not $\\frac{\\partial y}{\\partial u}$. What next? Well, now we can finally use the chain rule! Putting it into words, the chain rule tells us that, in order to find the derivative of the composite of two functions, we need to multiply the *derivative of the outer function* by the *derivative of the inner function*. In our case:"
   ]
  },
  {
   "cell_type": "markdown",
   "id": "d682dd29-e608-40d9-aafd-9016a2496948",
   "metadata": {},
   "source": [
    "$$\n",
    "\\frac{\\partial y}{\\partial x} = \\frac{\\partial y}{\\partial u} \\cdot \\frac{\\partial u}{\\partial x}\n",
    "$$"
   ]
  },
  {
   "cell_type": "markdown",
   "id": "f6231ec7-5a1e-40b0-991a-a42e35bd0351",
   "metadata": {},
   "source": [
    "**PROMPT:** With this knowledge at hand, what is the derivative of $(2x-3)^4$"
   ]
  },
  {
   "cell_type": "markdown",
   "id": "c32eaa93-0863-4694-b98e-d879efaf3983",
   "metadata": {},
   "source": [
    "$$\n",
    "\\frac{\\partial y}{\\partial x} = \\frac{\\partial y}{\\partial u} \\cdot \\frac{\\partial u}{\\partial x} = \\\\\n",
    "4u^3 \\cdot 2 = \\\\ \n",
    "8u^3 = \\\\\n",
    "8(2x - 3)^3\n",
    "$$"
   ]
  },
  {
   "cell_type": "markdown",
   "id": "6c32ed6a-b15d-4895-9b1c-770d3f8ecfdd",
   "metadata": {},
   "source": [
    "**PROMPT:** Let's take another example. What is the derivative of $(\\sin (x^2))^3$? <div>\n",
    "**Hint 1**: This expression contains *three* composite functions. <div>\n",
    "**Hint 2**: The derivative of $\\sin x$ is $\\cos x$"
   ]
  },
  {
   "cell_type": "markdown",
   "id": "61e3ef3a",
   "metadata": {},
   "source": [
    "Let's start by defining three substitutions:\n",
    "\n",
    "$$\n",
    "h = v^3 \\\\\n",
    "v = \\sin(u) \\\\\n",
    "u = x^2 \\\\\n",
    "$$"
   ]
  },
  {
   "cell_type": "markdown",
   "id": "8f4d5e36",
   "metadata": {},
   "source": [
    "Then we can calculate the derivative for each of them:\n",
    "$$\n",
    "\\begin{equation}\n",
    "    \\begin{aligned}\n",
    "    \\frac{\\partial h}{\\partial v} = 3v^2 \\;\\;\n",
    "    \\frac{\\partial v}{\\partial u} = \\cos(u) \\;\\; \n",
    "    \\frac{\\partial u}{\\partial x} = 2x \\;\\;\n",
    "    \\end{aligned}\n",
    "\\end{equation}\n",
    "$$\n",
    "\n"
   ]
  },
  {
   "cell_type": "markdown",
   "id": "01f3fde7-e868-4002-9653-3ce9ef1d8060",
   "metadata": {},
   "source": [
    "Finally, we can just multiply them with each other, substituting back until the whole function is again written in terms of $x$:\n",
    "\n",
    "$$\n",
    "\\begin{equation}\n",
    "    \\begin{aligned}\n",
    "\\frac{\\partial y}{\\partial x} = \n",
    "&\\frac{\\partial h}{\\partial v} \\cdot \\frac{\\partial v}{\\partial u} \\cdot \\frac{\\partial u}{\\partial x} = \\\\\n",
    "&3v^2 \\cdot \\cos(u) \\cdot 2x = \\\\\n",
    "&6x\\sin(u)^2 \\cdot \\cos(u)= \\\\\n",
    "&6x(\\sin(x^2))^2 \\cdot \\cos(x^2)\n",
    "    \\end{aligned}\n",
    "\\end{equation}\n",
    "$$"
   ]
  },
  {
   "cell_type": "markdown",
   "id": "62794a34",
   "metadata": {},
   "source": [
    "**CHALLENGE QUESTION:** A common differentation for backpropagation is with cross-entropy. Can you calculate the derivative of cross-entropy loss?\n",
    "\n",
    "**SUPER CHALLENGE QUESTION:** In NLP, the input to cross-entropy is usually an output from the so called sigmoid function. If you want to make things really hard, you can solve cross entropy, substituting $p$ and $q$ for the sigmoid output. We're not going to do that together, but I'm down to solve it as an evening activity :)"
   ]
  },
  {
   "cell_type": "markdown",
   "id": "d5a1146e-7f91-4ca6-baad-251f132f9a1d",
   "metadata": {},
   "source": [
    "### Backpropagation with the Chain Rule"
   ]
  },
  {
   "cell_type": "markdown",
   "id": "aef3b93a-35aa-4df8-bd32-e68cbc60e849",
   "metadata": {},
   "source": [
    "Okay, so now we have the derivatives for all our compound functions. Next we want to \"propagate\" them back through our neural network. What does that imply? Well, if we imagine each compound function is actually a matrix, then we just correct the values in each matrix according to the derivatives we just computed. \n",
    "\n",
    "If $\\eta$ is the learning rate, then the update to each matrix is:\n",
    "\n",
    "$$\n",
    "H = H - \\eta \\times \\frac{\\partial H}{\\partial V} \\\\\n",
    "V = V - \\eta \\times \\frac{\\partial V}{\\partial U} \\\\\n",
    "U = U - \\eta \\times \\frac{\\partial U}{\\partial X}\n",
    "$$"
   ]
  },
  {
   "cell_type": "markdown",
   "id": "c84b04da-5129-4f77-a753-f7c7e20fb6b5",
   "metadata": {},
   "source": [
    "There's a small leap of faith here: We didn't use matrices above to discuss the chain rule. A mathematician would probably shake their head. But. Hopefully this exercise still provided a strong intuition. Next we'll build a neural net for NLP from scratch in ```numpy``` and see how all of this works with matrices!"
   ]
  },
  {
   "cell_type": "code",
   "execution_count": null,
   "id": "b1184219-50cb-4b08-abdc-782e1dfdfe75",
   "metadata": {},
   "outputs": [],
   "source": []
  }
 ],
 "metadata": {
  "celltoolbar": "Slideshow",
  "kernelspec": {
   "display_name": "Python 3 (ipykernel)",
   "language": "python",
   "name": "python3"
  },
  "language_info": {
   "codemirror_mode": {
    "name": "ipython",
    "version": 3
   },
   "file_extension": ".py",
   "mimetype": "text/x-python",
   "name": "python",
   "nbconvert_exporter": "python",
   "pygments_lexer": "ipython3",
   "version": "3.11.4"
  }
 },
 "nbformat": 4,
 "nbformat_minor": 5
}
