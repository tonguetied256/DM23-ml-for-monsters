{
 "cells": [
  {
   "cell_type": "code",
   "execution_count": null,
   "id": "bd84b04b",
   "metadata": {},
   "outputs": [],
   "source": [
    "# Load Data\n",
    "import torch\n",
    "import torch.nn as nn\n",
    "from torch import optim\n",
    "import numpy as np\n",
    "import random\n",
    "import gensim.downloader as api\n",
    "import pandas as pd\n"
   ]
  },
  {
   "cell_type": "markdown",
   "id": "232076f8",
   "metadata": {},
   "source": [
    "# The Task: 'Toxicity' Modeling\n",
    "\n",
    "In 2016 Google published a Kaggle competition called 'toxic comments', offering a prize to the user who could make the best model for predicting whether a given comment was toxic.\n",
    "\n",
    "https://www.kaggle.com/c/jigsaw-toxic-comment-classification-challenge\n",
    "\n",
    "By offering a prize for the best model, google employed a shadow labor force of skilled workers---over 5000 submissions to date. \n",
    "\n",
    "kaggle is a good place to look for datasets. \n",
    "\n",
    "The data comes from Wikipedia talk pages. "
   ]
  },
  {
   "cell_type": "markdown",
   "id": "09b79a13",
   "metadata": {},
   "source": [
    "This dataset is already stored in huggingface: \n",
    "    https://huggingface.co/datasets"
   ]
  },
  {
   "cell_type": "code",
   "execution_count": null,
   "id": "3cf06e69",
   "metadata": {},
   "outputs": [],
   "source": [
    "from datasets import load_dataset\n",
    "\n",
    "dataset = load_dataset(\"jigsaw_toxicity_pred\", data_dir='../data/jigsaw-toxic-comment-classification-challenge/')\n"
   ]
  },
  {
   "cell_type": "markdown",
   "id": "d58f66e0",
   "metadata": {},
   "source": [
    "Some examples labeled toxic."
   ]
  },
  {
   "cell_type": "markdown",
   "id": "6649e7f2",
   "metadata": {},
   "source": [
    "# Exploratory Data Analysis\n",
    "## Let's examine our data."
   ]
  },
  {
   "cell_type": "markdown",
   "id": "a42be4f0",
   "metadata": {},
   "source": [
    "the data get returned to us as a Dataset object. ie an instance of the huggingface Datasets class. To see what you can do see the documentation here: https://huggingface.co/datasets"
   ]
  },
  {
   "cell_type": "markdown",
   "id": "9e72b2f9",
   "metadata": {},
   "source": [
    "in the huggingface datasets library, a split is a specific subset of a dataset like train and test. List a dataset’s split names with the get_dataset_split_names() function. This data is already segmented for us"
   ]
  },
  {
   "cell_type": "code",
   "execution_count": null,
   "id": "dac579f0",
   "metadata": {},
   "outputs": [],
   "source": [
    "from datasets import get_dataset_split_names\n",
    "\n",
    "get_dataset_split_names(\"jigsaw_toxicity_pred\")\n"
   ]
  },
  {
   "cell_type": "markdown",
   "id": "5c1d6ab3",
   "metadata": {},
   "source": [
    "let's look at the first entry in the train split"
   ]
  },
  {
   "cell_type": "code",
   "execution_count": null,
   "id": "38a1d106",
   "metadata": {},
   "outputs": [],
   "source": [
    "# let's look at just train\n",
    "train = dataset['train']\n",
    "\n",
    "# Get the first row in the train set. \n",
    "train[0] #"
   ]
  },
  {
   "cell_type": "markdown",
   "id": "6534e5ce",
   "metadata": {},
   "source": [
    "Use the - operator to start from the end of the dataset:"
   ]
  },
  {
   "cell_type": "code",
   "execution_count": null,
   "id": "1745971e",
   "metadata": {},
   "outputs": [],
   "source": [
    "# Get the last row in the train set\n",
    "\n",
    "train[-1]"
   ]
  },
  {
   "cell_type": "markdown",
   "id": "b0afaa15",
   "metadata": {},
   "source": [
    "Indexing by the column name returns a list of all the values in the column:"
   ]
  },
  {
   "cell_type": "code",
   "execution_count": null,
   "id": "18a63df8",
   "metadata": {},
   "outputs": [],
   "source": [
    "train[\"comment_text\"][0]"
   ]
  },
  {
   "cell_type": "markdown",
   "id": "e04201dc",
   "metadata": {},
   "source": [
    "You can combine row and column name indexing to return a specific value at a position:"
   ]
  },
  {
   "cell_type": "code",
   "execution_count": null,
   "id": "540ab419",
   "metadata": {},
   "outputs": [],
   "source": [
    "train[0][\"comment_text\"]"
   ]
  },
  {
   "cell_type": "markdown",
   "id": "9810e271",
   "metadata": {},
   "source": [
    "But it is important to remember that indexing order matters, especially when working with large audio and image datasets. Indexing by the column name returns all the values in the column first, then loads the value at that position. For large datasets, it may be slower to index by the column name first."
   ]
  },
  {
   "cell_type": "markdown",
   "id": "3d3c5a45",
   "metadata": {},
   "source": [
    "### Aside: dataframes\n",
    "\n",
    "We are using the built in Datasets class from hugginface, which is useful because it allows us to download a ton of datasets right in Jupyter. But plain old Pandas dataframes are very powerful for storing, examining, manipulating, and transforming data."
   ]
  },
  {
   "cell_type": "markdown",
   "id": "d43833df",
   "metadata": {},
   "source": [
    "Make a dataframe from our Dataset object"
   ]
  },
  {
   "cell_type": "code",
   "execution_count": null,
   "id": "52e260b3",
   "metadata": {
    "scrolled": true
   },
   "outputs": [],
   "source": [
    "df = pd.DataFrame.from_records(train)"
   ]
  },
  {
   "cell_type": "code",
   "execution_count": null,
   "id": "4c42702a",
   "metadata": {},
   "outputs": [],
   "source": [
    "df[df['toxic']==1]"
   ]
  },
  {
   "cell_type": "markdown",
   "id": "60fb03cd",
   "metadata": {},
   "source": [
    "## Multi-label vs Binary classification"
   ]
  },
  {
   "cell_type": "markdown",
   "id": "a6ceed85",
   "metadata": {},
   "source": [
    "Each example is a dictionary with comment text and then 6 annotations, which are coded for either 1 or 0. This is a multilabel classification problem. We are going to simplify it first into a binary classification task. Given a post, is it 'toxic' or not? \n",
    "\n",
    "What are the inputs to the model? what is the output?"
   ]
  },
  {
   "cell_type": "markdown",
   "id": "b157a360",
   "metadata": {},
   "source": [
    "# Pre-processing the Data"
   ]
  },
  {
   "cell_type": "markdown",
   "id": "de5f1cd7",
   "metadata": {},
   "source": [
    "We have to transform our text inputs to numbers. How have we been doing this so far?"
   ]
  },
  {
   "cell_type": "markdown",
   "id": "9dbc0ca0",
   "metadata": {},
   "source": [
    "<img src=\"../img/fullyconnected.png\" alt=\"Alternative text\" />"
   ]
  },
  {
   "cell_type": "markdown",
   "id": "f7703efc",
   "metadata": {},
   "source": [
    "Another way to think of the layer of input neurons is as a vector. in fact, this is how we represent the weights in each layer of the network.\n",
    "\n",
    "How can we represent the comment text as a vector? \n",
    "\n"
   ]
  },
  {
   "cell_type": "markdown",
   "id": "e9468420",
   "metadata": {},
   "source": [
    "## Loading embeddings"
   ]
  },
  {
   "cell_type": "markdown",
   "id": "996102e2",
   "metadata": {},
   "source": [
    "We can use embeddings.\n",
    "\n",
    "Let's load our word embeddings that we trained on X. "
   ]
  },
  {
   "cell_type": "code",
   "execution_count": null,
   "id": "270593db",
   "metadata": {},
   "outputs": [],
   "source": [
    "\"\"\"\n",
    "MISSING\n",
    "\"\"\"\n",
    "\n",
    "# load word2vec embeddings we trained"
   ]
  },
  {
   "cell_type": "markdown",
   "id": "7b04d8c3",
   "metadata": {},
   "source": [
    "Alternately, we can use pretrained vectors or embeddings downloaded from the internet. We can use Word2Vec, or GloVe, which is a model that came out a few years later and works very well. "
   ]
  },
  {
   "cell_type": "markdown",
   "id": "3b7d453e",
   "metadata": {},
   "source": [
    "We use `gensim` which is a great library for working with embeddings and training topic models"
   ]
  },
  {
   "cell_type": "code",
   "execution_count": null,
   "id": "72904f06",
   "metadata": {},
   "outputs": [],
   "source": [
    "info = api.info()"
   ]
  },
  {
   "cell_type": "markdown",
   "id": "dd6716ec",
   "metadata": {},
   "source": [
    "Print out available models (i.e. embeddings)"
   ]
  },
  {
   "cell_type": "code",
   "execution_count": null,
   "id": "fcbf9af8",
   "metadata": {},
   "outputs": [],
   "source": [
    "for model_name, model_data in sorted(info['models'].items()):\n",
    "    print(\n",
    "        '%s (%d records): %s' % (\n",
    "            model_name,\n",
    "            model_data.get('num_records', -1),\n",
    "            model_data['description'][:40] + '...',\n",
    "        )\n",
    "    )"
   ]
  },
  {
   "cell_type": "markdown",
   "id": "cdef2fda",
   "metadata": {},
   "source": [
    "We'll continue with twitter embeddings. Feel free to sub in a different kind and see what kind of results you get."
   ]
  },
  {
   "cell_type": "code",
   "execution_count": null,
   "id": "4107874c",
   "metadata": {},
   "outputs": [],
   "source": [
    "# download the model and return as object ready for use\n",
    "embeddings_glove_twitter = api.load(\"glove-twitter-50\")\n",
    "#embeddings = glove_twitter = api.load(\"glove-twitter-100\")\n",
    "\n"
   ]
  },
  {
   "cell_type": "markdown",
   "id": "3ab47b07",
   "metadata": {},
   "source": [
    "We can access the embedding of a single word in the dictionary like this"
   ]
  },
  {
   "cell_type": "code",
   "execution_count": null,
   "id": "0d7bb142",
   "metadata": {},
   "outputs": [],
   "source": [
    "embeddings['sup']"
   ]
  },
  {
   "cell_type": "markdown",
   "id": "d86c25ae",
   "metadata": {},
   "source": [
    "# Preprocessing"
   ]
  },
  {
   "cell_type": "markdown",
   "id": "fe2158ba",
   "metadata": {},
   "source": [
    "## Transform model inputs into vector representation  (x) "
   ]
  },
  {
   "cell_type": "markdown",
   "id": "52b8eb2e",
   "metadata": {},
   "source": [
    "First we need to transform the input text into a vector representation. \n",
    "\n",
    "Let's write a function that constructs an input vector from the training example. It will take a single example in the form of a dictionary OR a comment string, and should have a switch depending on the type of the input. This will help us down the road "
   ]
  },
  {
   "cell_type": "markdown",
   "id": "364f8a70",
   "metadata": {},
   "source": [
    "what needs to happen in this function?"
   ]
  },
  {
   "cell_type": "code",
   "execution_count": null,
   "id": "7d60fe1c",
   "metadata": {},
   "outputs": [],
   "source": [
    "def form_input(example, embeddings):\n",
    "    \"\"\"\n",
    "    :example: training example from huggingface dataset in the form of a dictionary, e.g.\n",
    "    \n",
    "    {'comment_text': '\"\\nAnd ... I really don\\'t think you understand.  I came here and my idea was bad right away.  What kind of community goes \"\"you have bad ideas\"\" go away, instead of helping rewrite them.   \"',\n",
    "     'toxic': 0,\n",
    "     'severe_toxic': 0,\n",
    "     'obscene': 0,\n",
    "     'threat': 0,\n",
    "     'insult': 0,\n",
    "     'identity_hate': 0}\n",
    "\n",
    "    returns a dictionary with a new key, x, which maps to a vector representing the comment\n",
    "    \"\"\"\n",
    "    \n",
    "    if isinstance(example, str):\n",
    "        raise Exception(\"not implemented\")\n",
    "    else:\n",
    "        raise Exception(\"not implemented\")\n",
    "        \n",
    "    example['x'] = None\n",
    "    return example"
   ]
  },
  {
   "cell_type": "markdown",
   "id": "7584dd29",
   "metadata": {},
   "source": [
    "We need to process the input string into words. It makes sense to use the same tokenization function we used for the w2v training corpus, because those are the vectors we have to work with."
   ]
  },
  {
   "cell_type": "code",
   "execution_count": null,
   "id": "9e778603",
   "metadata": {},
   "outputs": [],
   "source": [
    "import re\n",
    "\n",
    "def tokenize(string):\n",
    "    \"\"\"\n",
    "    tokenization function from n-gram models\n",
    "    \"\"\"\n",
    "    tokenized = re.sub(r'(\\w)([.,?!;:])', r'\\1 \\2', string) \n",
    "    tokenized = tokenized.split()\n",
    "    tokenized = [word.lower() for word in tokenized]\n",
    "    return tokenized"
   ]
  },
  {
   "cell_type": "code",
   "execution_count": null,
   "id": "1992c9a1",
   "metadata": {},
   "outputs": [],
   "source": [
    "def form_input(example, word_embeddings):\n",
    "    \"\"\"\n",
    "    :example: training example from huggingface dataset in the form of a dictionary, e.g.\n",
    "    \n",
    "    {'comment_text': '\"\\nAnd ... I really don\\'t think you understand.  I came here and my idea was bad right away.  What kind of community goes \"\"you have bad ideas\"\" go away, instead of helping rewrite them.   \"',\n",
    "     'toxic': 0,\n",
    "     'severe_toxic': 0,\n",
    "     'obscene': 0,\n",
    "     'threat': 0,\n",
    "     'insult': 0,\n",
    "     'identity_hate': 0}\n",
    "\n",
    "    returns a dictionary with a new key, x, which maps to a vector representing the comment\n",
    "    \"\"\"\n",
    "    \n",
    "    # get the tokens\n",
    "    if isinstance(example, str):\n",
    "        tokens = tokenize(example)\n",
    "        example = {} # dummy input dict\n",
    "    else:\n",
    "        tokens = tokenize(example['comment_text'])\n",
    "\n",
    "    # get the vectors for each token and average them into one vector\n",
    "    vecs = []\n",
    "    for word in tokens:\n",
    "        try:\n",
    "            vec = word_embeddings[word]\n",
    "        except KeyError: # this token is not in our embeddings dictionary\n",
    "            vec = np.zeros(word_embeddings.vector_size)\n",
    "        vecs.append(vec)\n",
    "    \n",
    "    centroid = np.mean(vecs, axis=0)\n",
    "    \n",
    "    # convert numpy array to torch tensor\n",
    "    torch_tensor = torch.from_numpy(centroid).float()\n",
    "    \n",
    "    # return the same example with a new key 'x' containing the vectorized input\n",
    "    example['x'] = torch_tensor\n",
    "    return example"
   ]
  },
  {
   "cell_type": "markdown",
   "id": "88064ede",
   "metadata": {},
   "source": [
    "We test out our form_input function and see that it adds a new key to the example dict"
   ]
  },
  {
   "cell_type": "code",
   "execution_count": null,
   "id": "bc87f531",
   "metadata": {},
   "outputs": [],
   "source": [
    "sample = train[0]\n",
    "form_input(sample, embeddings)"
   ]
  },
  {
   "cell_type": "markdown",
   "id": "e9513b75",
   "metadata": {},
   "source": [
    "we can also use a regular string as input"
   ]
  },
  {
   "cell_type": "code",
   "execution_count": null,
   "id": "2c3f7df2",
   "metadata": {},
   "outputs": [],
   "source": [
    "form_input(\"fuck you you fucking fuck\", embeddings)"
   ]
  },
  {
   "cell_type": "markdown",
   "id": "f865d669",
   "metadata": {},
   "source": [
    "## Preprocessing: Model Outputs\n",
    "\n",
    "We need to transform the output label into vector representation (gold y). \n",
    "\n",
    "### Question: What is our golf "
   ]
  },
  {
   "cell_type": "code",
   "execution_count": null,
   "id": "188fd769",
   "metadata": {},
   "outputs": [],
   "source": [
    "def form_output(example):\n",
    "    example['y'] = example['toxic']\n",
    "    return example"
   ]
  },
  {
   "cell_type": "code",
   "execution_count": null,
   "id": "757e6d3b",
   "metadata": {},
   "outputs": [],
   "source": [
    "form_output(sample)"
   ]
  },
  {
   "cell_type": "markdown",
   "id": "53abe894",
   "metadata": {},
   "source": [
    "# Building the Pytorch Model\n",
    "\n",
    "We have several decisions to make.\n",
    "\n",
    "- What is the shape of the input?\n",
    "- What is the shape of the output?\n",
    "- What form do we want the output to take? \n",
    "- How many layers do we want the model to have?\n",
    "- What activation function should we use at each layer?\n",
    "- Do we use dropout?\n",
    "\n"
   ]
  },
  {
   "cell_type": "markdown",
   "id": "cb42c308",
   "metadata": {},
   "source": [
    "We subclass nn.Module (which itself is a class and able to keep track of state). In this case, we want to create a class that holds our weights, bias, and method for the forward step. nn.Module has a number of attributes and methods (such as .parameters() and .zero_grad()) which we will be using.\n",
    "\n",
    "We also can store the loss function here as well.\n",
    "\n",
    "Here is an example FFNN.\n"
   ]
  },
  {
   "cell_type": "code",
   "execution_count": null,
   "id": "a9e29833",
   "metadata": {},
   "outputs": [],
   "source": [
    "class FFNN(nn.Module):\n",
    "    \"\"\"\n",
    "    Defines the core neural network for doing binary classification over a single datapoint at a time. This consists\n",
    "    of matrix multiplication, tanh nonlinearity, another matrix multiplication, and then\n",
    "    a sigmoid layer to give the ouputs.\n",
    "\n",
    "    The forward() function does the important computation. The backward() method is inherited from nn.Module and\n",
    "    handles backpropagation.\n",
    "    \"\"\"\n",
    "    def __init__(self, word_embeddings, inp, hid, out):\n",
    "        \"\"\"\n",
    "        Constructs the computation graph by instantiating the various layers and initializing weights.\n",
    "\n",
    "        :param inp: size of input (integer)\n",
    "        :param hid: size of hidden layer(integer)\n",
    "        :param out: size of output (integer), which should be the number of classes\n",
    "        \"\"\"\n",
    "        super(FFNN, self).__init__()\n",
    "        self.V = nn.Linear(inp, hid)\n",
    "        self.g = nn.Tanh()\n",
    "        #self.g = nn.ReLU()\n",
    "        self.W = nn.Linear(hid, out)\n",
    "        self.sigmoid = nn.Sigmoid()\n",
    "        \n",
    "        # Initialize weights according to a formula due to Xavier Glorot.\n",
    "        nn.init.xavier_uniform_(self.V.weight)\n",
    "        nn.init.xavier_uniform_(self.W.weight)\n",
    "        \n",
    "        self.num_classes = out\n",
    "        self.loss = nn.BCELoss()\n",
    "        \n",
    "\n",
    "    def forward(self, x):\n",
    "        \"\"\"\n",
    "        Runs the neural network on the given data and returns log probabilities of the various classes.\n",
    "\n",
    "        :param x: a [inp]-sized tensor of input data\n",
    "        :return: an [out]-sized tensor of log probabilities. (In general your network can be set up to return either log\n",
    "        probabilities or a tuple of (loss, log probability) if you want to pass in y to this function as well\n",
    "        \"\"\"\n",
    "        raise Exception (\"not implemented!!!\")\n",
    "    "
   ]
  },
  {
   "cell_type": "markdown",
   "id": "1ac6cee0",
   "metadata": {},
   "source": [
    "Since we’re now using an object instead of just using a function, we first have to instantiate our model\n",
    "\n",
    "- how many input dimensions does it have? output?"
   ]
  },
  {
   "cell_type": "code",
   "execution_count": null,
   "id": "a50ef9a6",
   "metadata": {},
   "outputs": [],
   "source": [
    "dimensions = None\n",
    "hidden = None\n",
    "output = None\n",
    "\n",
    "model = FFNN(embeddings, dimensions,hidden,output)\n",
    "print(model)"
   ]
  },
  {
   "cell_type": "markdown",
   "id": "15769922",
   "metadata": {},
   "source": [
    "let's run the forward function to compute the output"
   ]
  },
  {
   "cell_type": "code",
   "execution_count": null,
   "id": "ae77c706",
   "metadata": {},
   "outputs": [],
   "source": [
    "example = train[0]\n",
    "print(example)\n",
    "inp = form_input(example, embeddings)\n",
    "outp = model.forward(inp['x'])\n",
    "outp"
   ]
  },
  {
   "cell_type": "markdown",
   "id": "d88305dc",
   "metadata": {},
   "source": [
    "we can access the logits of the returned value"
   ]
  },
  {
   "cell_type": "code",
   "execution_count": null,
   "id": "8d99d31b",
   "metadata": {},
   "outputs": [],
   "source": [
    "outp.detach()"
   ]
  },
  {
   "cell_type": "markdown",
   "id": "ed30ae11",
   "metadata": {},
   "source": [
    "And we can change the PyTorch tensor to a Numpy array"
   ]
  },
  {
   "cell_type": "code",
   "execution_count": null,
   "id": "00b59a5e",
   "metadata": {},
   "outputs": [],
   "source": [
    "outp.detach().numpy()"
   ]
  },
  {
   "cell_type": "markdown",
   "id": "d40dc1bf",
   "metadata": {},
   "source": [
    "# Making Predictions\n",
    "\n",
    "The final layer is a continuous, differentiable function. It will predict a number between 0 and 1. But we want our output to be either 0 or 1 with no in between. How do we transform this output logit into a prediction?"
   ]
  },
  {
   "cell_type": "markdown",
   "id": "d2d2aca0",
   "metadata": {},
   "source": [
    "Write a function called predict() that will generate a prediction that is either a 0 or a 1"
   ]
  },
  {
   "cell_type": "code",
   "execution_count": null,
   "id": "0c8ea42b",
   "metadata": {},
   "outputs": [],
   "source": [
    "def predict(model, word_embeddings, example) -> int:\n",
    "    raise Exception(\"not implemented!\")"
   ]
  },
  {
   "cell_type": "code",
   "execution_count": null,
   "id": "ed8e2ad2",
   "metadata": {},
   "outputs": [],
   "source": [
    "output = predict(model, embeddings, \"fuck you you fucking fuck\")\n",
    "output"
   ]
  },
  {
   "cell_type": "markdown",
   "id": "578dd9d6",
   "metadata": {},
   "source": [
    "The model doesn't know what google means by toxicity. we have to train it"
   ]
  },
  {
   "cell_type": "markdown",
   "id": "a2b1fad5",
   "metadata": {},
   "source": [
    "# Evaluate"
   ]
  },
  {
   "cell_type": "markdown",
   "id": "9400af01",
   "metadata": {},
   "source": [
    "First, a way to evaluate the model performance on a whole bunch of predictions"
   ]
  },
  {
   "cell_type": "code",
   "execution_count": null,
   "id": "9d146bb1",
   "metadata": {},
   "outputs": [],
   "source": [
    "def print_evaluation(golds, predictions):\n",
    "    \"\"\"\n",
    "    Prints evaluation statistics comparing golds and predictions, each of which is a sequence of 0/1 labels.\n",
    "    Prints accuracy as well as precision/recall/F1 of the positive class, which can sometimes be informative if either\n",
    "    the golds or predictions are highly biased.\n",
    "\n",
    "    :param golds: gold labels, list of ints\n",
    "    :param predictions: pred labels, list of ints\n",
    "    :return:\n",
    "    \"\"\"\n",
    "    \n",
    "    num_correct = 0\n",
    "    num_pos_correct = 0\n",
    "    num_pred = 0\n",
    "    num_gold = 0\n",
    "    num_total = 0\n",
    "    if len(golds) != len(predictions):\n",
    "        raise Exception(\"Mismatched gold/pred lengths: %i / %i\" % (len(golds), len(predictions)))\n",
    "    for idx in range(0, len(golds)):\n",
    "        gold = golds[idx]\n",
    "        #print(\"gold \", gold)\n",
    "        prediction = predictions[idx]\n",
    "        #print(\"prediction \", prediction)\n",
    "        if prediction == gold:\n",
    "            num_correct += 1\n",
    "        if prediction == 1:\n",
    "            num_pred += 1\n",
    "        if gold == 1:\n",
    "            num_gold += 1\n",
    "        if prediction == 1 and gold == 1:\n",
    "            num_pos_correct += 1\n",
    "        num_total += 1\n",
    "    acc = float(num_correct) / num_total\n",
    "    output_str = \"Accuracy: %i / %i = %f\" % (num_correct, num_total, acc)\n",
    "    prec = float(num_pos_correct) / num_pred if num_pred > 0 else 0.0\n",
    "    rec = float(num_pos_correct) / num_gold if num_gold > 0 else 0.0\n",
    "    f1 = 2 * prec * rec / (prec + rec) if prec > 0 and rec > 0 else 0.0\n",
    "    output_str += \";\\nPrecision (fraction of predicted positives that are correct): %i / %i = %f\" % (num_pos_correct, num_pred, prec)\n",
    "    output_str += \";\\nRecall (fraction of true positives predicted correctly): %i / %i = %f\" % (num_pos_correct, num_gold, rec)\n",
    "    output_str += \";\\nF1 (harmonic mean of precision and recall): %f;\\n\" % f1\n",
    "    print(output_str)\n",
    "    return acc, f1, output_str"
   ]
  },
  {
   "cell_type": "markdown",
   "id": "42818267",
   "metadata": {},
   "source": [
    "# Lab: Coding the Training Loop\n",
    "\n",
    "Your task will be to write the training loop for training the feed forward neural network.\n",
    "\n"
   ]
  },
  {
   "cell_type": "markdown",
   "id": "3c3bef02",
   "metadata": {},
   "source": [
    "### Get the data into the right shape"
   ]
  },
  {
   "cell_type": "markdown",
   "id": "ecb7f653",
   "metadata": {},
   "source": [
    "huggingface datasets has a .map() function that will alter our dataset in place. it asks for a function as its input.\n",
    "that function has to be of a particular type. in particular, it has to expect something of the same type as a single example (a dictionary) and return a dictionary. We define an anonymous function using a lambda expression that uses our form_input function. no need to worry about the details here unless you are interested because type calculus is sick and so are lambda expressions.\n"
   ]
  },
  {
   "cell_type": "code",
   "execution_count": null,
   "id": "ab866c27",
   "metadata": {},
   "outputs": [],
   "source": [
    "dataset = dataset.map(lambda ex: form_input(ex, embeddings))\n",
    "dataset['train'][0]"
   ]
  },
  {
   "cell_type": "markdown",
   "id": "0512b34e",
   "metadata": {},
   "source": [
    "now our dataset has an extra column with vector representations of each example. we do this once ahead of time rather than on the fly because we will iterate through our training and dev sets many times, and we don't want waste time running form_input over and over"
   ]
  },
  {
   "cell_type": "markdown",
   "id": "d02c085b",
   "metadata": {},
   "source": [
    "We do the same thing with form_output. clearly, we didnt need separate functions, but it helps to separate our thinking"
   ]
  },
  {
   "cell_type": "code",
   "execution_count": null,
   "id": "937a6998",
   "metadata": {},
   "outputs": [],
   "source": [
    "dataset = dataset.map(lambda ex: form_output(ex))\n",
    "dataset['train'][0]"
   ]
  },
  {
   "cell_type": "markdown",
   "id": "35cf65fd",
   "metadata": {},
   "source": [
    "### Dataset Split"
   ]
  },
  {
   "cell_type": "markdown",
   "id": "6eef4e97",
   "metadata": {},
   "source": [
    "Remember, the data are already split into train and test sets. "
   ]
  },
  {
   "cell_type": "markdown",
   "id": "33883612",
   "metadata": {},
   "source": [
    "It's normal to have a third small data split called val (validate) or dev, that we use to evaluate the model while the training loop is running. Then, at the end of training, we evaluate on the test set. The dev set can be used to do things like choose **hyperparameters** for the model---we can't use the test set for this because then we'd be 'cheating'"
   ]
  },
  {
   "cell_type": "code",
   "execution_count": null,
   "id": "80c0bca1",
   "metadata": {},
   "outputs": [],
   "source": [
    "# load training data\n",
    "\n",
    "train = dataset['train']\n",
    "dev = dataset['test']\n",
    "test = dataset['test']\n",
    "\n",
    "print(repr(len(train)) + \" / \" + repr(len(dev)) + \" / \" + repr(len(test)) + \" train/dev/test examples\")\n"
   ]
  },
  {
   "cell_type": "markdown",
   "id": "06cd0b46",
   "metadata": {},
   "source": [
    "Let's set the model hyperparameters. "
   ]
  },
  {
   "cell_type": "code",
   "execution_count": null,
   "id": "62cddb81",
   "metadata": {},
   "outputs": [],
   "source": [
    "# set hyperparameters\n",
    "\n",
    "num_epochs = 10\n",
    "hidden_size = 200\n",
    "initial_learning_rate = 0.1"
   ]
  },
  {
   "cell_type": "markdown",
   "id": "e7360659",
   "metadata": {},
   "source": [
    "We initialize a model and an optimizer"
   ]
  },
  {
   "cell_type": "code",
   "execution_count": null,
   "id": "340faf7a",
   "metadata": {},
   "outputs": [],
   "source": [
    "ffnn = FFNN(embeddings, embeddings.vector_size, hidden_size, 1)\n",
    "optimizer = optim.Adam(ffnn.parameters(), lr=initial_learning_rate)"
   ]
  },
  {
   "cell_type": "markdown",
   "id": "a87b21cb",
   "metadata": {},
   "source": [
    "Next we need to code the actual training loop. This loop will run through the training data for a set number of epochs. In each epoch, it should iterate through all of the training examples. Ideally, it will do this in a random order every time. You should run the example through the model, calculate the loss, and then use the loss to run the backward step. **be sure to zero out the gradients before calling the forward step!!** This is done with `ffnn.zero_grad()` Our loss function is stored in the FFNN object, and can be called using `ffnn.loss()`. The backpropagation step is run on the loss, i.e. `loss.backward()` (where `loss` is the loss computed at this time step). At the end of each epoch, the"
   ]
  },
  {
   "cell_type": "code",
   "execution_count": null,
   "id": "82f1ff3b",
   "metadata": {},
   "outputs": [],
   "source": [
    "## training loop for toxicity classification\n",
    "\n",
    "\n",
    "\n",
    "for epoch in range(0, num_epochs):\n",
    "    ex_indices = [i for i in range(0, len(train))]\n",
    "    random.shuffle(ex_indices)\n",
    "    total_loss = 0.0\n",
    "    \n",
    "    ffnn.train()\n",
    "    for idx in ex_indices:\n",
    "        \n",
    "        # get inputs in the right format\n",
    "        x = torch.Tensor(train[idx]['x'])\n",
    "        y = train[idx]['y']\n",
    "        y = torch.from_numpy(np.asarray(y,dtype=np.float32)).unsqueeze(-1)\n",
    "        \n",
    "        # Zero out the gradients from the FFNN object. *THIS IS VERY IMPORTANT TO DO BEFORE CALLING BACKWARD()*\n",
    "        ffnn.zero_grad()\n",
    "        y_hat = ffnn.forward(x)\n",
    "        \n",
    "        # Can also use built-in NLLLoss as a shortcut here but we're being explicit here\n",
    "        loss = ffnn.loss(y_hat, y)\n",
    "        total_loss += loss\n",
    "        \n",
    "        # Computes the gradient and takes the optimizer step\n",
    "        loss.backward()\n",
    "        optimizer.step()\n",
    "    print(\"Total loss on epoch %s: %f\" % (epoch, total_loss))\n",
    "    \n",
    "    ffnn.eval()\n",
    "    dev_y_hats = [predict(ffnn, embeddings, ex['comment_text']) for ex in dev]\n",
    "    print_evaluation(dev['y'], dev_y_hats)\n",
    "\n"
   ]
  },
  {
   "cell_type": "markdown",
   "id": "9403bf68",
   "metadata": {},
   "source": [
    "# Make Predictions"
   ]
  },
  {
   "cell_type": "markdown",
   "id": "7e74115e",
   "metadata": {},
   "source": [
    "Let's use the model to make some predictions:"
   ]
  },
  {
   "cell_type": "code",
   "execution_count": null,
   "id": "9eca2e04",
   "metadata": {},
   "outputs": [],
   "source": [
    "predict(ffnn, embeddings, \"fuck you you fucking fuck\")"
   ]
  },
  {
   "cell_type": "markdown",
   "id": "11baa63f",
   "metadata": {},
   "source": [
    "# Improving the Model with Features\n",
    "\n",
    "This works okay. How can we get better performance? See if you can improve the model to X F1 score. You could try using different embeddings. You could change the model itself, adding more layers or trying a different activation function. You could add dropout after one of the layers (this takes one line to implement with pytorch, but you might have to look up about what it is or how it's used). You can also add hand-crafted features in addition to the embeddings to serve as input. This is a very common strategy and usually helps a lot."
   ]
  },
  {
   "cell_type": "markdown",
   "id": "2983a42a",
   "metadata": {},
   "source": [
    "Instead of just representing the input as word embeddings, we can represent the input as a vector of word embeddings concatenated with additional dimensions that encode other variables we are interested in. The features can be real-valued, like: how many tokens are in the example? what's the average word length? Features can also be binary, like: does the sentence contain a question mark? \n",
    "\n",
    "For example, s length. Here is a new form_input that adds an average word length feature and a contains X feature"
   ]
  },
  {
   "cell_type": "code",
   "execution_count": null,
   "id": "f330ae86",
   "metadata": {},
   "outputs": [],
   "source": [
    "def extract_features(tokens):\n",
    "    question = 1 if True else 0\n",
    "    features = {\n",
    "        \"avg_word_length\": np.mean([len(t) for t in tokens]),\n",
    "        \"contains_q\": 1 if \"?\" in tokens else 0\n",
    "    }\n",
    "    return features\n",
    "\n",
    "def form_input_updated(example, word_embeddings):\n",
    "    \"\"\"\n",
    "    :example: training example from huggingface dataset in the form of a dictionary, e.g.\n",
    "    \n",
    "    {'comment_text': '\"\\nAnd ... I really don\\'t think you understand.  I came here and my idea was bad right away.  What kind of community goes \"\"you have bad ideas\"\" go away, instead of helping rewrite them.   \"',\n",
    "     'toxic': 0,\n",
    "     'severe_toxic': 0,\n",
    "     'obscene': 0,\n",
    "     'threat': 0,\n",
    "     'insult': 0,\n",
    "     'identity_hate': 0}\n",
    "\n",
    "    returns a dictionary with a new key, x, which maps to a vector representing the comment\n",
    "    \"\"\"\n",
    "    \n",
    "    if isinstance(example, str):\n",
    "        tokens = tokenize(example)\n",
    "        example = {} # dummy input dict\n",
    "    else:\n",
    "        tokens = tokenize(example['comment_text'])\n",
    "\n",
    "    vecs = []\n",
    "    for word in tokens:\n",
    "        try:\n",
    "            vec = word_embeddings[word]\n",
    "        except KeyError: # this token is not in our embeddings dictionary\n",
    "            vec = np.zeros(word_embeddings.vector_size)\n",
    "        vecs.append(vec)\n",
    "    \n",
    "    centroid = np.mean(vecs, axis=0)\n",
    "    \n",
    "    \n",
    "    features_dict = extract_features(tokens)\n",
    "    features_list = list(features_dict.values())\n",
    "    \n",
    "    final_vector = np.append(centroid, features_list, axis=0)\n",
    "    \n",
    "    # we need torch form which is a tensor, not a numpy array\n",
    "    \n",
    "    torch_tensor = torch.from_numpy(final_vector).float()\n",
    "    example['x'] = torch_tensor\n",
    "    return example\n",
    "    "
   ]
  },
  {
   "cell_type": "code",
   "execution_count": null,
   "id": "a024e655",
   "metadata": {},
   "outputs": [],
   "source": [
    "form_input_updated(\"hello my name is fhwfhjwhfjwklfjwj4klwfkl?\", embeddings)"
   ]
  },
  {
   "cell_type": "code",
   "execution_count": null,
   "id": "0f6102e0",
   "metadata": {},
   "outputs": [],
   "source": [
    "# re-form our inputs, make a new model and train that one. \n",
    "\n",
    "ffnn = FFNN(embeddings, embeddings.vector_size, hidden_size, 1)\n",
    "optimizer = optim.Adam(ffnn.parameters(), lr=initial_learning_rate)\n",
    "\n",
    "dataset = dataset.map(lambda ex: form_input_updated(ex, embeddings))\n"
   ]
  },
  {
   "cell_type": "code",
   "execution_count": null,
   "id": "7f1487e0",
   "metadata": {},
   "outputs": [],
   "source": [
    "dataset['train'][0][\"x\"]"
   ]
  },
  {
   "cell_type": "code",
   "execution_count": null,
   "id": "a6a3a7ca",
   "metadata": {},
   "outputs": [],
   "source": [
    "## training loop for toxicity classification\n",
    "\n",
    "\n",
    "\n",
    "for epoch in range(0, num_epochs):\n",
    "    ex_indices = [i for i in range(0, len(train))]\n",
    "    random.shuffle(ex_indices)\n",
    "    total_loss = 0.0\n",
    "    \n",
    "    ffnn.train()\n",
    "    for idx in ex_indices:\n",
    "        \n",
    "        # prepare input (x) and gold toxicity label (y) as torch Tensors\n",
    "        \n",
    "        x = torch.Tensor(train[idx]['x'])   \n",
    "        y = train[idx]['y']\n",
    "        y = torch.from_numpy(np.asarray(y,dtype=np.float32)).unsqueeze(-1)\n",
    "        \n",
    "        # Zero out the gradients from the FFNN object. *THIS IS VERY IMPORTANT TO DO BEFORE CALLING BACKWARD()*\n",
    "        ffnn.zero_grad()\n",
    "        y_hat = ffnn.forward(x)\n",
    "        \n",
    "        # Can also use built-in NLLLoss as a shortcut here but we're being explicit here\n",
    "        loss = ffnn.loss(y_hat, y)\n",
    "        total_loss += loss\n",
    "        \n",
    "        # Computes the gradient and takes the optimizer step\n",
    "        loss.backward()\n",
    "        optimizer.step()\n",
    "    print(\"Total loss on epoch %s: %f\" % (epoch, total_loss))\n",
    "    \n",
    "    ffnn.eval()\n",
    "    dev_y_hats = [predict(ffnn, embeddings, ex['comment_text']) for ex in dev]\n",
    "    print_evaluation(dev['y'], dev_y_hats)\n",
    "\n"
   ]
  },
  {
   "cell_type": "markdown",
   "id": "b90d4418",
   "metadata": {},
   "source": [
    "# Appendix: Example Training Loop\n",
    "\n",
    "Here is an example training loop for learning the XOR function"
   ]
  },
  {
   "cell_type": "code",
   "execution_count": null,
   "id": "1c1d222f",
   "metadata": {},
   "outputs": [],
   "source": [
    "# MAKE THE DATA\n",
    "# Synthetic data for XOR: y = x1 XOR x2\n",
    "train_xs = np.array([[0, 0], [0, 1], [1, 0], [1, 1]], dtype=np.float32)\n",
    "train_ys = np.array([0, 1, 1, 0], dtype=np.float32)\n",
    "\n",
    "# Define some constants\n",
    "# Inputs are of size 2\n",
    "feat_vec_size = 2\n",
    "\n",
    "# Let's use 4 hidden units\n",
    "embedding_size = 4\n",
    "\n",
    "# We're using 2 classes. What's presented here is multi-class code that can scale to more classes, though\n",
    "# slightly more compact code for the binary case is possible.\n",
    "num_classes = 1\n",
    "\n",
    "\n",
    "# set hyperparameters\n",
    "num_epochs = 100\n",
    "ffnn = FFNN(feat_vec_size, embedding_size, num_classes)\n",
    "initial_learning_rate = 0.1\n",
    "optimizer = optim.Adam(ffnn.parameters(), lr=initial_learning_rate)\n",
    "\n",
    "\n",
    "# RUN TRAINING\n",
    "for epoch in range(0, num_epochs):\n",
    "    \n",
    "    ex_indices = [i for i in range(0, len(train_xs))]\n",
    "    random.shuffle(ex_indices)\n",
    "    total_loss = 0.0\n",
    "\n",
    "    for idx in ex_indices:\n",
    "        x =  torch.from_numpy(train_xs[idx]).float()\n",
    "        y = train_ys[idx]\n",
    "        y = torch.from_numpy(np.asarray(y,dtype=np.float32)).unsqueeze(-1)\n",
    "\n",
    "        # Build one-hot representation of y. Instead of the label 0 or 1, y_onehot is either [0, 1] or [1, 0]. This\n",
    "        # way we can take the dot product directly with a probability vector to get class probabilities.\n",
    "        #y_onehot = torch.zeros(num_classes)\n",
    "        \n",
    "        # scatter will write the value of 1 into the position of y_onehot given by y\n",
    "        #y_onehot.scatter_(0, torch.from_numpy(np.asarray(y,dtype=np.int64)), 1)\n",
    "        # Zero out the gradients from the FFNN object. *THIS IS VERY IMPORTANT TO DO BEFORE CALLING BACKWARD()*\n",
    "        ffnn.zero_grad()\n",
    "        log_probs = ffnn.forward(x)\n",
    "        \n",
    "        print(x)\n",
    "        print(log_probs)\n",
    "        print(y)\n",
    "        \n",
    "        # Can also use built-in NLLLoss as a shortcut here but we're being explicit here\n",
    "        loss = ffnn.loss(log_probs, y)\n",
    "        \n",
    "        total_loss += loss\n",
    "        # Computes the gradient and takes the optimizer step\n",
    "        loss.backward()\n",
    "        optimizer.step()\n",
    "    print(\"Total loss on epoch %i: %f\" % (epoch, total_loss))\n",
    "    \n",
    "\n",
    "# Evaluate on the train set\n",
    "# RUN TRAINING AND TEST\n",
    "\n",
    "train_correct = 0\n",
    "for idx in range(0, len(train_xs)):\n",
    "    x = torch.from_numpy(train_xs[idx]).float()\n",
    "    y = train_ys[idx]\n",
    "    log_probs = ffnn.forward(x)\n",
    "    prediction = 1 if log_probs > 0.5 else 0\n",
    "    if y == prediction:\n",
    "        train_correct += 1\n",
    "    print(\"Example \" + repr(train_xs[idx]) + \"; gold = \" + repr(train_ys[idx]) + \"; pred = \" +\\\n",
    "          repr(prediction) + \" with probs \" + repr(log_probs))\n",
    "print(repr(train_correct) + \"/\" + repr(len(train_ys)) + \" correct after training\")"
   ]
  },
  {
   "cell_type": "markdown",
   "id": "58df9554",
   "metadata": {},
   "source": [
    "# References\n",
    "\n",
    "- https://vijaygadepalli.medium.com/toxic-comments-classification-696603741872\n",
    "    "
   ]
  },
  {
   "cell_type": "code",
   "execution_count": null,
   "id": "219db96a",
   "metadata": {},
   "outputs": [],
   "source": []
  }
 ],
 "metadata": {
  "kernelspec": {
   "display_name": "Python 3 (ipykernel)",
   "language": "python",
   "name": "python3"
  },
  "language_info": {
   "codemirror_mode": {
    "name": "ipython",
    "version": 3
   },
   "file_extension": ".py",
   "mimetype": "text/x-python",
   "name": "python",
   "nbconvert_exporter": "python",
   "pygments_lexer": "ipython3",
   "version": "3.11.4"
  }
 },
 "nbformat": 4,
 "nbformat_minor": 5
}
