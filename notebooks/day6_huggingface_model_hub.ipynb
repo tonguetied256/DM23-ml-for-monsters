{
 "cells": [
  {
   "cell_type": "markdown",
   "id": "5f01a587-e71a-4b01-bd96-7a382adf465e",
   "metadata": {
    "tags": []
   },
   "source": [
    "# Examples of Using the Huggingface Model Hub"
   ]
  },
  {
   "cell_type": "markdown",
   "id": "271f4922-98f3-4547-8394-e855ec8cb8bb",
   "metadata": {},
   "source": [
    "### Code Preamble"
   ]
  },
  {
   "cell_type": "code",
   "execution_count": 479,
   "id": "4386cd73-3de0-4389-9709-6fd27d4e9ec9",
   "metadata": {},
   "outputs": [],
   "source": [
    "import numpy as np\n",
    "import pandas as pd\n",
    "import requests\n",
    "\n",
    "from bs4 import *\n",
    "from torch import nn\n"
   ]
  },
  {
   "cell_type": "code",
   "execution_count": 415,
   "id": "a8278ed7-2f35-47f6-b337-9a92b324f7db",
   "metadata": {},
   "outputs": [],
   "source": [
    "def scrape_text(url):\n",
    "    url = url\n",
    "    res = requests.get(url)\n",
    "    html_page = res.text\n",
    "\n",
    "    # Parse the source code using BeautifulSoup\n",
    "    soup = BeautifulSoup(html_page, 'html.parser')\n",
    "\n",
    "    # Extract the plain text content\n",
    "    text = soup.get_text()\n",
    "    return text"
   ]
  },
  {
   "cell_type": "markdown",
   "id": "25acd15d-0ef3-4d80-862f-2140582aad85",
   "metadata": {},
   "source": [
    "## Huggingface "
   ]
  },
  {
   "cell_type": "markdown",
   "id": "e5f14941-7b79-42dc-a0ab-21b077b95b11",
   "metadata": {},
   "source": [
    "### The Huggingface Hub"
   ]
  },
  {
   "cell_type": "markdown",
   "id": "45598585-f996-490f-92b8-1851ff04d9a9",
   "metadata": {},
   "source": [
    "- Like Github, but for LLMs and other large neural nets\n",
    "- Models, datasets, apps\n",
    "- Take a look: [https://huggingface.co/](https://huggingface.co/)"
   ]
  },
  {
   "cell_type": "markdown",
   "id": "b6b875f5-b95f-4a7f-a096-bcea5d8d2903",
   "metadata": {},
   "source": [
    "## Fine-Tuned Classifiers: Toxicity Detection with Pre-Trained RoBERTa"
   ]
  },
  {
   "cell_type": "markdown",
   "id": "e806fc3e-1754-4ae2-9c6d-ceea2571f702",
   "metadata": {},
   "source": [
    "- You've trained your own toxicity classifier\n",
    "- Next we'll use a classifier that was trained by someone else, **finetuning** an LLM\n",
    "    - Take a look: [toxicity classifier](https://huggingface.co/s-nlp/roberta_toxicity_classifier) by [S-NLP](https://huggingface.co/s-nlp)"
   ]
  },
  {
   "cell_type": "code",
   "execution_count": 416,
   "id": "b1ac311c-1c46-4fe3-884f-ac714b463268",
   "metadata": {},
   "outputs": [],
   "source": [
    "from transformers import RobertaTokenizer, RobertaForSequenceClassification"
   ]
  },
  {
   "cell_type": "code",
   "execution_count": 417,
   "id": "04d45f6d-cafb-426a-877d-a8e9f6d6107c",
   "metadata": {},
   "outputs": [
    {
     "name": "stderr",
     "output_type": "stream",
     "text": [
      "Some weights of the model checkpoint at SkolkovoInstitute/roberta_toxicity_classifier were not used when initializing RobertaForSequenceClassification: ['roberta.pooler.dense.weight', 'roberta.pooler.dense.bias']\n",
      "- This IS expected if you are initializing RobertaForSequenceClassification from the checkpoint of a model trained on another task or with another architecture (e.g. initializing a BertForSequenceClassification model from a BertForPreTraining model).\n",
      "- This IS NOT expected if you are initializing RobertaForSequenceClassification from the checkpoint of a model that you expect to be exactly identical (initializing a BertForSequenceClassification model from a BertForSequenceClassification model).\n"
     ]
    }
   ],
   "source": [
    "# load tokenizer and model weights\n",
    "tokenizer = RobertaTokenizer.from_pretrained('SkolkovoInstitute/roberta_toxicity_classifier')\n",
    "model = RobertaForSequenceClassification.from_pretrained('SkolkovoInstitute/roberta_toxicity_classifier')"
   ]
  },
  {
   "cell_type": "code",
   "execution_count": 418,
   "id": "ebb77a8d-d543-42ea-a0c9-fcc7ba2fa037",
   "metadata": {},
   "outputs": [
    {
     "data": {
      "text/plain": [
       "SequenceClassifierOutput(loss=None, logits=tensor([[ 4.6567, -4.9115]], grad_fn=<AddmmBackward0>), hidden_states=None, attentions=None)"
      ]
     },
     "execution_count": 418,
     "metadata": {},
     "output_type": "execute_result"
    }
   ],
   "source": [
    "# prepare the input\n",
    "batch = tokenizer.encode('you are amazing', return_tensors='pt')\n",
    "\n",
    "# inference\n",
    "model(batch)"
   ]
  },
  {
   "cell_type": "markdown",
   "id": "df953bc5-ad4c-4ca5-827a-133e8b7ad6be",
   "metadata": {},
   "source": [
    "### Getting the Predictions Out"
   ]
  },
  {
   "cell_type": "code",
   "execution_count": 419,
   "id": "3f1dfebc-0875-4379-b0c7-925b5619572d",
   "metadata": {},
   "outputs": [
    {
     "data": {
      "text/plain": [
       "tensor([[ 4.6567, -4.9115]], grad_fn=<AddmmBackward0>)"
      ]
     },
     "execution_count": 419,
     "metadata": {},
     "output_type": "execute_result"
    }
   ],
   "source": [
    "model(batch).logits #log-odds"
   ]
  },
  {
   "cell_type": "code",
   "execution_count": 420,
   "id": "d25a83f0-cbea-49b5-8fc6-89957869ed39",
   "metadata": {},
   "outputs": [],
   "source": [
    "def get_label_from_prediction(logits):\n",
    "    probabilities = nn.functional.sigmoid(logits) # Run sigmoid on the logits to turn them to probabilities\n",
    "    non_toxic_prob = probabilities[0][0].detach().numpy() #We get the first probability value\n",
    "    if non_toxic_prob < 0.5: # Check if probability is less than zero\n",
    "        return \"toxic\"\n",
    "    else:\n",
    "        return \"not toxic\"\n"
   ]
  },
  {
   "cell_type": "code",
   "execution_count": 421,
   "id": "c17851b8-9855-42c7-bda9-50763a08d5bc",
   "metadata": {},
   "outputs": [],
   "source": [
    "def txt_to_prediction_to_label(text, model):\n",
    "    batch = tokenizer.encode(text, return_tensors='pt') #Tokenize your input text\n",
    "    prediction = model(batch) #Use model to predict\n",
    "    return get_label_from_prediction(prediction.logits) #Extract label from predictions"
   ]
  },
  {
   "cell_type": "code",
   "execution_count": 422,
   "id": "b620b79d-f504-423d-9c58-10a87832b861",
   "metadata": {},
   "outputs": [
    {
     "data": {
      "text/plain": [
       "'toxic'"
      ]
     },
     "execution_count": 422,
     "metadata": {},
     "output_type": "execute_result"
    }
   ],
   "source": [
    "txt_to_prediction_to_label(\"fuck you you fucking fuck\", model)"
   ]
  },
  {
   "cell_type": "code",
   "execution_count": 423,
   "id": "029351de-b629-4875-9875-ad3346ee414d",
   "metadata": {},
   "outputs": [
    {
     "data": {
      "text/plain": [
       "'toxic'"
      ]
     },
     "execution_count": 423,
     "metadata": {},
     "output_type": "execute_result"
    }
   ],
   "source": [
    "txt_to_prediction_to_label(\"here come the feminazis again\", model)"
   ]
  },
  {
   "cell_type": "code",
   "execution_count": 424,
   "id": "12d41af8-9bbc-45e8-8954-a686c3dbdd00",
   "metadata": {},
   "outputs": [
    {
     "data": {
      "text/plain": [
       "'not toxic'"
      ]
     },
     "execution_count": 424,
     "metadata": {},
     "output_type": "execute_result"
    }
   ],
   "source": [
    "txt_to_prediction_to_label(\"Adolf Hitler was a great guy\", model)"
   ]
  },
  {
   "cell_type": "code",
   "execution_count": 425,
   "id": "ac13a3b1-91c9-4a22-9ac0-227fcfe8d34e",
   "metadata": {},
   "outputs": [
    {
     "data": {
      "text/plain": [
       "'not toxic'"
      ]
     },
     "execution_count": 425,
     "metadata": {},
     "output_type": "execute_result"
    }
   ],
   "source": [
    "txt_to_prediction_to_label(\"We'll take you behind the sauna\", model)"
   ]
  },
  {
   "cell_type": "code",
   "execution_count": 426,
   "id": "1c7095f5-ed2b-45a4-ad02-4e50db0fcbb6",
   "metadata": {},
   "outputs": [
    {
     "data": {
      "text/plain": [
       "'not toxic'"
      ]
     },
     "execution_count": 426,
     "metadata": {},
     "output_type": "execute_result"
    }
   ],
   "source": [
    "txt_to_prediction_to_label(\"Je te deteste\", model)"
   ]
  },
  {
   "cell_type": "code",
   "execution_count": 427,
   "id": "81485505-ba3b-473c-927f-18608d3a49cc",
   "metadata": {},
   "outputs": [
    {
     "data": {
      "text/plain": [
       "'not toxic'"
      ]
     },
     "execution_count": 427,
     "metadata": {},
     "output_type": "execute_result"
    }
   ],
   "source": [
    "txt_to_prediction_to_label(\"Yo te odio\", model)"
   ]
  },
  {
   "cell_type": "code",
   "execution_count": 428,
   "id": "b7b7de63-57f9-4bef-a9bb-4976e588aceb",
   "metadata": {},
   "outputs": [
    {
     "data": {
      "text/plain": [
       "'not toxic'"
      ]
     },
     "execution_count": 428,
     "metadata": {},
     "output_type": "execute_result"
    }
   ],
   "source": [
    "txt_to_prediction_to_label(\"White pride forever\", model)"
   ]
  },
  {
   "cell_type": "code",
   "execution_count": 429,
   "id": "06919129-9b3b-418e-98b1-8954eef28d58",
   "metadata": {},
   "outputs": [
    {
     "data": {
      "text/plain": [
       "'not toxic'"
      ]
     },
     "execution_count": 429,
     "metadata": {},
     "output_type": "execute_result"
    }
   ],
   "source": [
    "txt_to_prediction_to_label(\"1488\", model)"
   ]
  },
  {
   "cell_type": "markdown",
   "id": "c5b574fd-6739-443a-8d71-7cafee85c807",
   "metadata": {},
   "source": [
    "### Looping through predictions"
   ]
  },
  {
   "cell_type": "code",
   "execution_count": 430,
   "id": "07b38fcd-3134-4de8-b64f-ee0e8f504009",
   "metadata": {},
   "outputs": [],
   "source": [
    "from nltk.tokenize import sent_tokenize"
   ]
  },
  {
   "cell_type": "code",
   "execution_count": 431,
   "id": "19322e7a-c040-48cb-a380-2f3d7276bdc0",
   "metadata": {},
   "outputs": [],
   "source": [
    "text_tiqqun = scrape_text('https://theanarchistlibrary.org/library/tiqqun-the-cybernetic-hypothesis.muse')\n",
    "sents_tiqqun = sent_tokenize(text_tiqqun)"
   ]
  },
  {
   "cell_type": "code",
   "execution_count": 439,
   "id": "fe96fc41-76f7-46f7-bf81-c9d4dd7df35d",
   "metadata": {},
   "outputs": [],
   "source": [
    "from tqdm import tqdm"
   ]
  },
  {
   "cell_type": "code",
   "execution_count": 433,
   "id": "d9ee1b69-acb2-4815-b224-733c58a05305",
   "metadata": {},
   "outputs": [
    {
     "name": "stdout",
     "output_type": "stream",
     "text": [
      "CPU times: user 2 µs, sys: 1e+03 ns, total: 3 µs\n",
      "Wall time: 6.91 µs\n"
     ]
    },
    {
     "name": "stderr",
     "output_type": "stream",
     "text": [
      "100%|█████████████████████████████████████████████████| 856/856 [01:07<00:00, 12.60it/s]\n"
     ]
    }
   ],
   "source": [
    "%time\n",
    "\n",
    "not_toxic = []\n",
    "toxic = []\n",
    "for sent in tqdm(sents_tiqqun):\n",
    "    pred = txt_to_prediction_to_label(sent, model)\n",
    "    preds.append(pred)\n",
    "    if pred == 'toxic':\n",
    "        toxic.append(sent)\n",
    "    else:\n",
    "        not_toxic.append(sent)"
   ]
  },
  {
   "cell_type": "code",
   "execution_count": 435,
   "id": "36c44a58-a9e8-4442-8337-c4aea501543e",
   "metadata": {},
   "outputs": [
    {
     "data": {
      "text/plain": [
       "5"
      ]
     },
     "execution_count": 435,
     "metadata": {},
     "output_type": "execute_result"
    }
   ],
   "source": [
    "len(toxic)"
   ]
  },
  {
   "cell_type": "code",
   "execution_count": 436,
   "id": "eb2774f7-085c-4894-b0d1-64e31ff82728",
   "metadata": {},
   "outputs": [
    {
     "data": {
      "text/plain": [
       "['These are the murderers of Time, the crusaders of Sameness, the lovers of fatality.',\n",
       " 'The capitalist is a conqueror, and the conqueror is a monster, a centaur.',\n",
       " 'And there are some that are just too strong... that threaten to break shit.',\n",
       " 'Firstly: I cum perversely.',\n",
       " 'They must be absorbed, eliminated.']"
      ]
     },
     "execution_count": 436,
     "metadata": {},
     "output_type": "execute_result"
    }
   ],
   "source": [
    "toxic"
   ]
  },
  {
   "cell_type": "code",
   "execution_count": 437,
   "id": "b812ace4-eb20-4e62-8c5d-5ff97c2f1c56",
   "metadata": {},
   "outputs": [],
   "source": [
    "text_anarkata = scrape_text('https://theanarchistlibrary.org/library/anarkata.muse')"
   ]
  },
  {
   "cell_type": "code",
   "execution_count": 438,
   "id": "b6c688d9-7445-4b3b-8686-8179cc426dd4",
   "metadata": {},
   "outputs": [
    {
     "name": "stderr",
     "output_type": "stream",
     "text": [
      "100%|█████████████████████████████████████████████████| 442/442 [00:30<00:00, 14.45it/s]\n"
     ]
    }
   ],
   "source": [
    "def loop_for_toxicity(sents):\n",
    "    not_toxic = []\n",
    "    toxic = []\n",
    "    for sent in tqdm(sents):\n",
    "        pred = txt_to_prediction_to_label(sent, model)\n",
    "        preds.append(pred)\n",
    "        if pred == 'toxic':\n",
    "            toxic.append(sent)\n",
    "        else:\n",
    "            not_toxic.append(sent)\n",
    "    return toxic, not_toxic, preds\n",
    "\n",
    "toxic_anarkata, not_toxic_anarkata, preds_anarkata = loop_for_toxicity(sent_tokenize(text_anarkata))"
   ]
  },
  {
   "cell_type": "code",
   "execution_count": 440,
   "id": "f66b5270-a4cd-401a-8ea3-12c9a9b69a57",
   "metadata": {},
   "outputs": [
    {
     "name": "stdout",
     "output_type": "stream",
     "text": [
      "33\n",
      "409\n"
     ]
    }
   ],
   "source": [
    "print(len(toxic_anarkata))\n",
    "print(len(not_toxic_anarkata))"
   ]
  },
  {
   "cell_type": "code",
   "execution_count": 441,
   "id": "b61803c6-5fd7-454d-9591-af51c900100e",
   "metadata": {},
   "outputs": [
    {
     "data": {
      "text/plain": [
       "['Black captives in the gender segregated hold of slave ships foraged queer relationships with one another.',\n",
       " 'Black trans people continued to transgress the colonial gender binaries imposed by white colonizers.',\n",
       " 'This means Black labor in the Third and Fourth Worlds; this means prison labor, domestic labor, sex work, emotional labor, and other forms of Black labor that are elicited largely from femes, prisoners, QTGNC people, and others in the Black community.']"
      ]
     },
     "execution_count": 441,
     "metadata": {},
     "output_type": "execute_result"
    }
   ],
   "source": [
    "toxic_anarkata[:3]"
   ]
  },
  {
   "cell_type": "markdown",
   "id": "9541fc38-b7b7-438d-a68d-64ab30c6ef8d",
   "metadata": {},
   "source": [
    "### Project Idea: Patterns of Toxicity\n",
    "\n",
    "- Demonstrate patterns in what kind of text is deemed toxic and what is not\n",
    "    - For example: LLMs vs Black Radicalism\n",
    "- Produce some data visualizations and showcase examples"
   ]
  },
  {
   "cell_type": "markdown",
   "id": "b5c918fb-050e-4a34-9d7d-d65b8c0f847c",
   "metadata": {},
   "source": [
    "## Open Source Zero-Shot Classification with BART\n",
    "\n",
    "- Sometimes we don't know what classes we want to use\n",
    "- We can entrust the LLM to interpret the classes\n",
    "    - Zero-shot and few-shot "
   ]
  },
  {
   "cell_type": "code",
   "execution_count": null,
   "id": "10a6f590-7f33-4a96-b257-9178e3034d0e",
   "metadata": {},
   "outputs": [],
   "source": [
    "from transformers import pipeline\n",
    "classifier = pipeline(\"zero-shot-classification\",\n",
    "                      model=\"facebook/bart-large-mnli\")\n"
   ]
  },
  {
   "cell_type": "code",
   "execution_count": null,
   "id": "2aaa3688-e204-421f-967b-84d018d4dd51",
   "metadata": {},
   "outputs": [],
   "source": [
    "sequence_to_classify = \"I hate the police\"\n",
    "candidate_labels = ['extremist', 'non-extremist']\n",
    "classifier(sequence_to_classify, candidate_labels)"
   ]
  },
  {
   "cell_type": "code",
   "execution_count": null,
   "id": "42892f98-6cb8-4e56-85b6-b4617d6471ef",
   "metadata": {},
   "outputs": [],
   "source": [
    "sequence_to_classify = \"I love the police\"\n",
    "candidate_labels = ['extremist', 'non-extremist']\n",
    "classifier(sequence_to_classify, candidate_labels)"
   ]
  },
  {
   "cell_type": "code",
   "execution_count": null,
   "id": "f7d87445-0bce-4012-ac3d-cb3c23b7eb8c",
   "metadata": {},
   "outputs": [],
   "source": [
    "sequence_to_classify = \"I hate pizza\"\n",
    "candidate_labels = ['extremist', 'non-extremist']\n",
    "classifier(sequence_to_classify, candidate_labels)"
   ]
  },
  {
   "cell_type": "code",
   "execution_count": null,
   "id": "e4d8dac5-eddb-4aa0-b211-196de6d92110",
   "metadata": {},
   "outputs": [],
   "source": [
    "sequence_to_classify = \"I hate the police. Just kidding!\"\n",
    "candidate_labels = ['extremist', 'non-extremist']\n",
    "classifier(sequence_to_classify, candidate_labels)"
   ]
  },
  {
   "cell_type": "markdown",
   "id": "39ca1bf5-8662-4f3a-a396-58ed57e829b8",
   "metadata": {
    "tags": []
   },
   "source": [
    "## Sequence Similarity & Clustering Using Sentence Transformers\n",
    "\n",
    "- Sometimes we want to look at the similarity of entire sequences of text, not just individual words\n",
    "- We can use LLMs to represent short (and sometimes longer) sentences\n",
    "- Let's see how"
   ]
  },
  {
   "cell_type": "code",
   "execution_count": 532,
   "id": "c4f3428b-95c3-47c3-99f7-79e9ab48f233",
   "metadata": {},
   "outputs": [],
   "source": [
    "from sentence_transformers import SentenceTransformer"
   ]
  },
  {
   "cell_type": "code",
   "execution_count": 533,
   "id": "8265ce99-9456-44bc-bf99-b206624439dd",
   "metadata": {},
   "outputs": [],
   "source": [
    "sent_model = SentenceTransformer('sentence-transformers/all-MiniLM-L6-v2')"
   ]
  },
  {
   "cell_type": "code",
   "execution_count": 534,
   "id": "16f7993b-7189-4b3f-a1ea-922c2b5c07da",
   "metadata": {},
   "outputs": [],
   "source": [
    "def cosine_similarity(u, v):\n",
    "    dot_prod = np.dot(u, v)\n",
    "    v_norm = np.linalg.norm(u)\n",
    "    u_norm = np.linalg.norm(v)\n",
    "    return dot_prod / (v_norm * u_norm)"
   ]
  },
  {
   "cell_type": "code",
   "execution_count": 535,
   "id": "e8079ef6-0ef6-4b2c-9966-8a0dc4594645",
   "metadata": {},
   "outputs": [
    {
     "data": {
      "text/plain": [
       "2"
      ]
     },
     "execution_count": 535,
     "metadata": {},
     "output_type": "execute_result"
    }
   ],
   "source": [
    "len(embeddings)"
   ]
  },
  {
   "cell_type": "code",
   "execution_count": 536,
   "id": "0f9672a8-02db-42f1-9e3f-01103066bc06",
   "metadata": {},
   "outputs": [
    {
     "data": {
      "text/plain": [
       "1.0"
      ]
     },
     "execution_count": 536,
     "metadata": {},
     "output_type": "execute_result"
    }
   ],
   "source": [
    "sentences = [\"This is an example sentence\", \"This is an example sentence\"]\n",
    "embeddings = sent_model.encode(sentences)\n",
    "cosine_similarity(embeddings[0], embeddings[1])"
   ]
  },
  {
   "cell_type": "code",
   "execution_count": 537,
   "id": "a317985e-86e6-4f62-9bb7-19b62d74f32a",
   "metadata": {},
   "outputs": [],
   "source": [
    "def get_sentence_similarity(sent1, sent2, model):\n",
    "    sentences = [sent1, sent2]\n",
    "    embeddings = model.encode(sentences)\n",
    "    return cosine_similarity(embeddings[0], embeddings[1])"
   ]
  },
  {
   "cell_type": "code",
   "execution_count": 538,
   "id": "04ec1675-b70e-490a-8e94-55697dcaf7f6",
   "metadata": {},
   "outputs": [
    {
     "data": {
      "text/plain": [
       "0.6925412"
      ]
     },
     "execution_count": 538,
     "metadata": {},
     "output_type": "execute_result"
    }
   ],
   "source": [
    "get_sentence_similarity(\"George W. Bush\", \n",
    "                        \"Donald Trump\",\n",
    "                        sent_model)"
   ]
  },
  {
   "cell_type": "code",
   "execution_count": 539,
   "id": "fc48bf97-b15c-4409-b722-0733f4a9628e",
   "metadata": {},
   "outputs": [
    {
     "data": {
      "text/plain": [
       "0.41790998"
      ]
     },
     "execution_count": 539,
     "metadata": {},
     "output_type": "execute_result"
    }
   ],
   "source": [
    "get_sentence_similarity(\"George W. Bush\", \n",
    "                        \"Pablo Picasso\",\n",
    "                        sent_model)"
   ]
  },
  {
   "cell_type": "code",
   "execution_count": 540,
   "id": "5a095e2f-9988-430c-95f5-27e9d0fe6f04",
   "metadata": {},
   "outputs": [
    {
     "data": {
      "text/plain": [
       "0.65180725"
      ]
     },
     "execution_count": 540,
     "metadata": {},
     "output_type": "execute_result"
    }
   ],
   "source": [
    "get_sentence_similarity(\"Salvador Dali\", \n",
    "                        \"Pablo Picasso\",\n",
    "                        sent_model)"
   ]
  },
  {
   "cell_type": "code",
   "execution_count": 541,
   "id": "eda96780-499a-4a41-8999-b8102de4b290",
   "metadata": {},
   "outputs": [
    {
     "data": {
      "text/plain": [
       "0.29745877"
      ]
     },
     "execution_count": 541,
     "metadata": {},
     "output_type": "execute_result"
    }
   ],
   "source": [
    "get_sentence_similarity(\"Felix Guattari\", \n",
    "                        \"Gilles Deleuze\",\n",
    "                        sent_model)"
   ]
  },
  {
   "cell_type": "code",
   "execution_count": 548,
   "id": "da287bcf-f97e-476b-833a-6a2884bd0e05",
   "metadata": {},
   "outputs": [
    {
     "data": {
      "text/plain": [
       "0.31771478"
      ]
     },
     "execution_count": 548,
     "metadata": {},
     "output_type": "execute_result"
    }
   ],
   "source": [
    "get_sentence_similarity(\"Vladimir Lenin\", \n",
    "                        \"Rosa Luxemburg\",\n",
    "                        sent_model)"
   ]
  },
  {
   "cell_type": "markdown",
   "id": "62d9904f-830d-40a9-896a-b638b34d9949",
   "metadata": {},
   "source": [
    "### Finding Clusters of Sentences"
   ]
  },
  {
   "cell_type": "code",
   "execution_count": 518,
   "id": "0a0a4422-f873-4a08-8505-99e296f124de",
   "metadata": {},
   "outputs": [
    {
     "data": {
      "text/plain": [
       "384"
      ]
     },
     "execution_count": 518,
     "metadata": {},
     "output_type": "execute_result"
    }
   ],
   "source": [
    "sents_tiqqun_short = [sent for sent in sents_tiqqun if (len(sent) <150) and (len(sent) > 10)]\n",
    "len(sents_tiqqun_short)"
   ]
  },
  {
   "cell_type": "code",
   "execution_count": 519,
   "id": "e575ee82-ba78-4833-a332-b265d680e61f",
   "metadata": {},
   "outputs": [
    {
     "name": "stderr",
     "output_type": "stream",
     "text": [
      "100%|█████████████████████████████████████████████████| 384/384 [00:04<00:00, 92.13it/s]\n"
     ]
    }
   ],
   "source": [
    "#tiqqun_embeddings = []\n",
    "def get_all_sent_embeddings(sents, model):\n",
    "    embeddings = []\n",
    "    for sent in tqdm(sents):\n",
    "        embedding = model.encode(sent)\n",
    "        embeddings.append(embedding)\n",
    "    return np.array(embeddings)\n",
    "\n",
    "embeddings_tiqqun = get_all_sent_embeddings(sents_tiqqun_short, sent_model)"
   ]
  },
  {
   "cell_type": "code",
   "execution_count": 520,
   "id": "4b33ec07-6d8f-49db-aa2a-78b21caeb839",
   "metadata": {},
   "outputs": [
    {
     "data": {
      "text/plain": [
       "(384, 384)"
      ]
     },
     "execution_count": 520,
     "metadata": {},
     "output_type": "execute_result"
    }
   ],
   "source": [
    "embeddings_tiqqun.shape"
   ]
  },
  {
   "cell_type": "code",
   "execution_count": 521,
   "id": "011b15b9-3be8-40a2-a0d3-ea0a0f415ead",
   "metadata": {},
   "outputs": [],
   "source": [
    "from sklearn.manifold import TSNE\n",
    "\n",
    "tsne_tiqqun = TSNE(n_components=2, learning_rate='auto', init='pca', perplexity=3).fit_transform(embeddings_tiqqun)"
   ]
  },
  {
   "cell_type": "code",
   "execution_count": 522,
   "id": "9b12496b-1f70-40e2-826a-5b10f54c927b",
   "metadata": {},
   "outputs": [
    {
     "data": {
      "text/plain": [
       "<matplotlib.collections.PathCollection at 0x7fc77eaeb3d0>"
      ]
     },
     "execution_count": 522,
     "metadata": {},
     "output_type": "execute_result"
    },
    {
     "data": {
      "image/png": "[encoded data removed]",
      "text/plain": [
       "<Figure size 432x288 with 1 Axes>"
      ]
     },
     "metadata": {
      "needs_background": "light"
     },
     "output_type": "display_data"
    }
   ],
   "source": [
    "from matplotlib import pyplot as plt\n",
    "\n",
    "plt.scatter(tsne_tiqqun[:,0], tsne_tiqqun[:,1])"
   ]
  },
  {
   "cell_type": "code",
   "execution_count": 523,
   "id": "a1f00942-1f7b-40b1-9917-b3db9f475346",
   "metadata": {},
   "outputs": [],
   "source": [
    "from sklearn.cluster import KMeans\n",
    "\n",
    "kmeans = KMeans(n_clusters=5, random_state=0, n_init=\"auto\").fit(tsne_tiqqun)"
   ]
  },
  {
   "cell_type": "code",
   "execution_count": 524,
   "id": "7d03625d-4386-4bc9-8b5f-e19701ee99de",
   "metadata": {},
   "outputs": [],
   "source": [
    "sents_indeces = []\n",
    "for idx, sent in enumerate(sents_tiqqun_short):\n",
    "    sents_indeces.append((kmeans.labels_[idx], sent, \n",
    "                          tsne_tiqqun[idx][0],\n",
    "                          tsne_tiqqun[idx][1]))\n",
    "\n",
    "sents_indeces_df = pd.DataFrame(sents_indeces, columns = ['label', 'text', 'embedding_x', 'embedding_y'])"
   ]
  },
  {
   "cell_type": "code",
   "execution_count": 525,
   "id": "c0678570-23d2-4a15-8fbc-4bf9896a29ad",
   "metadata": {},
   "outputs": [],
   "source": [
    "import seaborn as sns"
   ]
  },
  {
   "cell_type": "code",
   "execution_count": 526,
   "id": "f505d6ac-7e81-43a7-8c30-8f0dec937bb4",
   "metadata": {},
   "outputs": [
    {
     "data": {
      "image/png": "[encoded data removed]",
      "text/plain": [
       "<Figure size 432x288 with 1 Axes>"
      ]
     },
     "metadata": {
      "needs_background": "light"
     },
     "output_type": "display_data"
    }
   ],
   "source": [
    "sns.scatterplot(x=\"embedding_x\", y=\"embedding_y\", hue=\"label\", \n",
    "                data=sents_indeces_df, palette='Paired', s=20);\n",
    "plt.legend(loc='lower right');"
   ]
  },
  {
   "cell_type": "code",
   "execution_count": 527,
   "id": "bff1608b-7c3e-4668-88ac-8988ba2322b5",
   "metadata": {},
   "outputs": [
    {
     "data": {
      "text/html": [
       "<div>\n",
       "<style scoped>\n",
       "    .dataframe tbody tr th:only-of-type {\n",
       "        vertical-align: middle;\n",
       "    }\n",
       "\n",
       "    .dataframe tbody tr th {\n",
       "        vertical-align: top;\n",
       "    }\n",
       "\n",
       "    .dataframe thead th {\n",
       "        text-align: right;\n",
       "    }\n",
       "</style>\n",
       "<table border=\"1\" class=\"dataframe\">\n",
       "  <thead>\n",
       "    <tr style=\"text-align: right;\">\n",
       "      <th></th>\n",
       "      <th>label</th>\n",
       "      <th>text</th>\n",
       "      <th>embedding_x</th>\n",
       "      <th>embedding_y</th>\n",
       "    </tr>\n",
       "  </thead>\n",
       "  <tbody>\n",
       "    <tr>\n",
       "      <th>335</th>\n",
       "      <td>0</td>\n",
       "      <td>Lawrence,” Critic and Clinic, 1993.</td>\n",
       "      <td>29.546131</td>\n",
       "      <td>-52.187664</td>\n",
       "    </tr>\n",
       "    <tr>\n",
       "      <th>376</th>\n",
       "      <td>0</td>\n",
       "      <td>It is not a substantial quality of beings, but...</td>\n",
       "      <td>-1.960756</td>\n",
       "      <td>-14.069440</td>\n",
       "    </tr>\n",
       "    <tr>\n",
       "      <th>254</th>\n",
       "      <td>0</td>\n",
       "      <td>Lawrence that worked out the principles of gue...</td>\n",
       "      <td>33.231613</td>\n",
       "      <td>-50.563435</td>\n",
       "    </tr>\n",
       "    <tr>\n",
       "      <th>185</th>\n",
       "      <td>0</td>\n",
       "      <td>Such a doctrine justified, thirty years later,...</td>\n",
       "      <td>-1.024919</td>\n",
       "      <td>-18.092876</td>\n",
       "    </tr>\n",
       "    <tr>\n",
       "      <th>316</th>\n",
       "      <td>0</td>\n",
       "      <td>Speed upholds institutions.</td>\n",
       "      <td>-9.065516</td>\n",
       "      <td>-34.362465</td>\n",
       "    </tr>\n",
       "    <tr>\n",
       "      <th>339</th>\n",
       "      <td>1</td>\n",
       "      <td>Simondon thus explains that machines with a hi...</td>\n",
       "      <td>-21.735809</td>\n",
       "      <td>42.077717</td>\n",
       "    </tr>\n",
       "    <tr>\n",
       "      <th>203</th>\n",
       "      <td>1</td>\n",
       "      <td>Communism will be a communism of robots!</td>\n",
       "      <td>-27.827278</td>\n",
       "      <td>54.355225</td>\n",
       "    </tr>\n",
       "    <tr>\n",
       "      <th>171</th>\n",
       "      <td>1</td>\n",
       "      <td>Be able to keep constraints on the system elem...</td>\n",
       "      <td>-54.397354</td>\n",
       "      <td>0.001339</td>\n",
       "    </tr>\n",
       "    <tr>\n",
       "      <th>22</th>\n",
       "      <td>1</td>\n",
       "      <td>What program?</td>\n",
       "      <td>-52.800343</td>\n",
       "      <td>3.604807</td>\n",
       "    </tr>\n",
       "    <tr>\n",
       "      <th>197</th>\n",
       "      <td>1</td>\n",
       "      <td>The utopia of a world where machines would wor...</td>\n",
       "      <td>-40.593979</td>\n",
       "      <td>30.593700</td>\n",
       "    </tr>\n",
       "  </tbody>\n",
       "</table>\n",
       "</div>"
      ],
      "text/plain": [
       "     label                                               text  embedding_x  \\\n",
       "335      0                Lawrence,” Critic and Clinic, 1993.    29.546131   \n",
       "376      0  It is not a substantial quality of beings, but...    -1.960756   \n",
       "254      0  Lawrence that worked out the principles of gue...    33.231613   \n",
       "185      0  Such a doctrine justified, thirty years later,...    -1.024919   \n",
       "316      0                        Speed upholds institutions.    -9.065516   \n",
       "339      1  Simondon thus explains that machines with a hi...   -21.735809   \n",
       "203      1           Communism will be a communism of robots!   -27.827278   \n",
       "171      1  Be able to keep constraints on the system elem...   -54.397354   \n",
       "22       1                                      What program?   -52.800343   \n",
       "197      1  The utopia of a world where machines would wor...   -40.593979   \n",
       "\n",
       "     embedding_y  \n",
       "335   -52.187664  \n",
       "376   -14.069440  \n",
       "254   -50.563435  \n",
       "185   -18.092876  \n",
       "316   -34.362465  \n",
       "339    42.077717  \n",
       "203    54.355225  \n",
       "171     0.001339  \n",
       "22      3.604807  \n",
       "197    30.593700  "
      ]
     },
     "execution_count": 527,
     "metadata": {},
     "output_type": "execute_result"
    }
   ],
   "source": [
    "representative_samples = sents_indeces_df.groupby(\"label\").sample(n=5, random_state=1)\n",
    "representative_samples.head(10)"
   ]
  },
  {
   "cell_type": "code",
   "execution_count": 531,
   "id": "fe61006d-f1ee-41e0-bdd4-a13df71ba8cf",
   "metadata": {},
   "outputs": [
    {
     "name": "stdout",
     "output_type": "stream",
     "text": [
      "It is a way of thinking about balance, born in a crisis context.\n",
      "\n",
      "\n",
      "Creativity, the social individual, the general intellect - student youth, cultivated dropouts, intangible laborers, etc.\n",
      "\n",
      "\n",
      "But this strategy implies attacking sedentary forces.\n",
      "\n",
      "\n",
      "...Homogeneity, mixture, syncretism: this is entropy.\n",
      "\n",
      "\n",
      "On the one hand the TAZ are defined as “free enclaves,” places whose law is freedom, good things, the Marvelous.\n",
      "\n",
      "\n"
     ]
    }
   ],
   "source": [
    "for text in representative_samples[representative_samples.label == 4].text:\n",
    "    print(text)\n",
    "    print(\"\\n\")"
   ]
  },
  {
   "cell_type": "markdown",
   "id": "65a70d88-446f-416f-8949-fb3ea0a19503",
   "metadata": {},
   "source": [
    "## Your Turn!"
   ]
  },
  {
   "cell_type": "markdown",
   "id": "8e84bd9d-a92d-4d21-a0a7-9411c563d9a1",
   "metadata": {},
   "source": [
    "NEXT: Explore models at https://huggingface.co/models. Try to run one for yourself. We will help write the helper functions :)"
   ]
  },
  {
   "cell_type": "code",
   "execution_count": null,
   "id": "65f0b219-3229-4ef7-89ff-b7bfc1dff72c",
   "metadata": {},
   "outputs": [],
   "source": []
  }
 ],
 "metadata": {
  "kernelspec": {
   "display_name": "Python 3 (ipykernel)",
   "language": "python",
   "name": "python3"
  },
  "language_info": {
   "codemirror_mode": {
    "name": "ipython",
    "version": 3
   },
   "file_extension": ".py",
   "mimetype": "text/x-python",
   "name": "python",
   "nbconvert_exporter": "python",
   "pygments_lexer": "ipython3",
   "version": "3.11.4"
  }
 },
 "nbformat": 4,
 "nbformat_minor": 5
}
